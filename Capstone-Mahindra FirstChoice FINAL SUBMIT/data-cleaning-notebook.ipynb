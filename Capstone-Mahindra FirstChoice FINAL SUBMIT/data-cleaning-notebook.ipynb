{
 "cells": [
  {
   "cell_type": "markdown",
   "metadata": {},
   "source": [
    "## Imports"
   ]
  },
  {
   "cell_type": "code",
   "execution_count": 1,
   "metadata": {},
   "outputs": [],
   "source": [
    "# pip install pgeocode"
   ]
  },
  {
   "cell_type": "code",
   "execution_count": 2,
   "metadata": {},
   "outputs": [],
   "source": [
    "import pandas as pd\n",
    "import pgeocode\n",
    "import numpy as np"
   ]
  },
  {
   "cell_type": "markdown",
   "metadata": {},
   "source": [
    "## Helper methods"
   ]
  },
  {
   "cell_type": "code",
   "execution_count": 3,
   "metadata": {},
   "outputs": [],
   "source": [
    "def missing_values_counts(df: pd.DataFrame) -> pd.Series:\n",
    "    \"\"\"Returns number of missing values in each column\"\"\"\n",
    "    return df.isnull().sum()\n",
    "\n",
    "def missing_values_percent(df: pd.DataFrame) -> pd.Series:\n",
    "    \"\"\"Returns percentage of missing values in each column\"\"\"\n",
    "    percent_null = (df.isnull().sum() / df.shape[0]) * 100\n",
    "    return pd.Series(percent_null, index=df.columns)\n",
    "\n",
    "def remove_null_columns(df: pd.DataFrame, limit=50, zero_is_null=True) -> pd.DataFrame:\n",
    "    \"\"\"Drops all columns with more than limit percent null values\"\"\"\n",
    "    rows  = df.shape[0]\n",
    "    cols  = df.columns\n",
    "    drops = []\n",
    "    \n",
    "    percent_null = lambda c: (df[c].isnull().sum() / rows) * 100\n",
    "    is_zero      = lambda v: True if v == 0 else False\n",
    "    percent_zero = lambda c: (df[c].apply(is_zero).sum() / rows) * 100\n",
    "    \n",
    "    for col in cols:\n",
    "        if percent_null(col) > limit:\n",
    "            drops.append(col)\n",
    "    \n",
    "        if (zero_is_null) and (percent_zero(col) > limit):\n",
    "            drops.append(col)\n",
    "\n",
    "    return df.drop(drops, 1)\n",
    "\n",
    "def lower_case_data(df: pd.DataFrame) -> pd.DataFrame:\n",
    "    cols = df.select_dtypes(include=['object', 'category']).columns\n",
    "    \n",
    "    for col in cols:\n",
    "        df[col] = df[col].str.lower()\n",
    "    \n",
    "    return df\n",
    "\n"
   ]
  },
  {
   "cell_type": "markdown",
   "metadata": {},
   "source": [
    "## Reading Data"
   ]
  },
  {
   "cell_type": "code",
   "execution_count": 4,
   "metadata": {},
   "outputs": [
    {
     "output_type": "stream",
     "name": "stdout",
     "text": "(492314, 59)\n"
    }
   ],
   "source": [
    "# customer_path = \"data/customer.csv\"\n",
    "# inventory_path = \"data/inventory.csv\"\n",
    "invoice_path = \"data/invoice.csv\"\n",
    "\n",
    "# customer = pd.read_csv(customer_path)\n",
    "# inventory = pd.read_csv(inventory_path)\n",
    "invoice = pd.read_csv(invoice_path)\n",
    "\n",
    "# print(customer.shape)\n",
    "# print(inventory.shape)\n",
    "print(invoice.shape)"
   ]
  },
  {
   "cell_type": "markdown",
   "metadata": {},
   "source": [
    "## Converting all text data to lower case "
   ]
  },
  {
   "cell_type": "code",
   "execution_count": 5,
   "metadata": {},
   "outputs": [
    {
     "output_type": "execute_result",
     "data": {
      "text/plain": "   Unnamed: 0  Amt Rcvd From Custom  Amt Rcvd From Ins Co Area / Locality  \\\n0           0                   0.0                   0.0        majiwada   \n1           1                   0.0                   0.0           thnae   \n2           2                   0.0                   0.0           thane   \n3           3                   0.0                   0.0           thnae   \n4           4                   0.0                   0.0           thane   \n\n   CGST(14%)  CGST(2.5%)  CGST(6%)  CGST(9%)      CITY Cash /Cashless Type  \\\n0        0.0         0.0       0.0       0.0     thane                 NaN   \n1        0.0         0.0       0.0       0.0     thnae                 NaN   \n2        0.0         0.0       0.0       0.0  thane[w]                 NaN   \n3        0.0         0.0       0.0       0.0     thnae                 NaN   \n4        0.0         0.0       0.0       0.0     thane                 NaN   \n\n   ... Service Advisor Name TDS amount Technician Name Total Amt Wtd Tax.  \\\n0  ...                  NaN        0.0          rupesh            4051.95   \n1  ...                  NaN        0.0        prashant            1001.29   \n2  ...                  NaN        0.0           imran             233.14   \n3  ...                  NaN        0.0        prashant               0.00   \n4  ...                  NaN        0.0        dayanand            2747.12   \n\n  Total CGST Total GST Total IGST  Total SGST/UGST  Total Value  User ID  \n0        0.0       0.0        0.0              0.0      4051.95  bc01fs1  \n1        0.0       0.0        0.0              0.0      1001.29  bc01sa2  \n2        0.0       0.0        0.0              0.0       233.14  bc01sa2  \n3        0.0       0.0        0.0              0.0         0.00  bc01sa2  \n4        0.0       0.0        0.0              0.0      2747.12  bc01sa2  \n\n[5 rows x 59 columns]",
      "text/html": "<div>\n<style scoped>\n    .dataframe tbody tr th:only-of-type {\n        vertical-align: middle;\n    }\n\n    .dataframe tbody tr th {\n        vertical-align: top;\n    }\n\n    .dataframe thead th {\n        text-align: right;\n    }\n</style>\n<table border=\"1\" class=\"dataframe\">\n  <thead>\n    <tr style=\"text-align: right;\">\n      <th></th>\n      <th>Unnamed: 0</th>\n      <th>Amt Rcvd From Custom</th>\n      <th>Amt Rcvd From Ins Co</th>\n      <th>Area / Locality</th>\n      <th>CGST(14%)</th>\n      <th>CGST(2.5%)</th>\n      <th>CGST(6%)</th>\n      <th>CGST(9%)</th>\n      <th>CITY</th>\n      <th>Cash /Cashless Type</th>\n      <th>...</th>\n      <th>Service Advisor Name</th>\n      <th>TDS amount</th>\n      <th>Technician Name</th>\n      <th>Total Amt Wtd Tax.</th>\n      <th>Total CGST</th>\n      <th>Total GST</th>\n      <th>Total IGST</th>\n      <th>Total SGST/UGST</th>\n      <th>Total Value</th>\n      <th>User ID</th>\n    </tr>\n  </thead>\n  <tbody>\n    <tr>\n      <th>0</th>\n      <td>0</td>\n      <td>0.0</td>\n      <td>0.0</td>\n      <td>majiwada</td>\n      <td>0.0</td>\n      <td>0.0</td>\n      <td>0.0</td>\n      <td>0.0</td>\n      <td>thane</td>\n      <td>NaN</td>\n      <td>...</td>\n      <td>NaN</td>\n      <td>0.0</td>\n      <td>rupesh</td>\n      <td>4051.95</td>\n      <td>0.0</td>\n      <td>0.0</td>\n      <td>0.0</td>\n      <td>0.0</td>\n      <td>4051.95</td>\n      <td>bc01fs1</td>\n    </tr>\n    <tr>\n      <th>1</th>\n      <td>1</td>\n      <td>0.0</td>\n      <td>0.0</td>\n      <td>thnae</td>\n      <td>0.0</td>\n      <td>0.0</td>\n      <td>0.0</td>\n      <td>0.0</td>\n      <td>thnae</td>\n      <td>NaN</td>\n      <td>...</td>\n      <td>NaN</td>\n      <td>0.0</td>\n      <td>prashant</td>\n      <td>1001.29</td>\n      <td>0.0</td>\n      <td>0.0</td>\n      <td>0.0</td>\n      <td>0.0</td>\n      <td>1001.29</td>\n      <td>bc01sa2</td>\n    </tr>\n    <tr>\n      <th>2</th>\n      <td>2</td>\n      <td>0.0</td>\n      <td>0.0</td>\n      <td>thane</td>\n      <td>0.0</td>\n      <td>0.0</td>\n      <td>0.0</td>\n      <td>0.0</td>\n      <td>thane[w]</td>\n      <td>NaN</td>\n      <td>...</td>\n      <td>NaN</td>\n      <td>0.0</td>\n      <td>imran</td>\n      <td>233.14</td>\n      <td>0.0</td>\n      <td>0.0</td>\n      <td>0.0</td>\n      <td>0.0</td>\n      <td>233.14</td>\n      <td>bc01sa2</td>\n    </tr>\n    <tr>\n      <th>3</th>\n      <td>3</td>\n      <td>0.0</td>\n      <td>0.0</td>\n      <td>thnae</td>\n      <td>0.0</td>\n      <td>0.0</td>\n      <td>0.0</td>\n      <td>0.0</td>\n      <td>thnae</td>\n      <td>NaN</td>\n      <td>...</td>\n      <td>NaN</td>\n      <td>0.0</td>\n      <td>prashant</td>\n      <td>0.00</td>\n      <td>0.0</td>\n      <td>0.0</td>\n      <td>0.0</td>\n      <td>0.0</td>\n      <td>0.00</td>\n      <td>bc01sa2</td>\n    </tr>\n    <tr>\n      <th>4</th>\n      <td>4</td>\n      <td>0.0</td>\n      <td>0.0</td>\n      <td>thane</td>\n      <td>0.0</td>\n      <td>0.0</td>\n      <td>0.0</td>\n      <td>0.0</td>\n      <td>thane</td>\n      <td>NaN</td>\n      <td>...</td>\n      <td>NaN</td>\n      <td>0.0</td>\n      <td>dayanand</td>\n      <td>2747.12</td>\n      <td>0.0</td>\n      <td>0.0</td>\n      <td>0.0</td>\n      <td>0.0</td>\n      <td>2747.12</td>\n      <td>bc01sa2</td>\n    </tr>\n  </tbody>\n</table>\n<p>5 rows × 59 columns</p>\n</div>"
     },
     "metadata": {},
     "execution_count": 5
    }
   ],
   "source": [
    "invoice = lower_case_data(invoice)\n",
    "invoice.head()"
   ]
  },
  {
   "cell_type": "markdown",
   "metadata": {},
   "source": [
    "## Dropping colums with more than 40% null values"
   ]
  },
  {
   "cell_type": "code",
   "execution_count": 6,
   "metadata": {},
   "outputs": [
    {
     "output_type": "stream",
     "name": "stdout",
     "text": "(492314, 25)\n"
    }
   ],
   "source": [
    "max_percent = 40\n",
    "\n",
    "# customer = remove_null_columns(customer, limit=max_percent)\n",
    "# inventory = remove_null_columns(inventory, limit=max_percent)\n",
    "invoice = remove_null_columns(invoice, limit=max_percent)\n",
    "\n",
    "# print(customer.shape)\n",
    "# print(inventory.shape)\n",
    "print(invoice.shape)"
   ]
  },
  {
   "cell_type": "code",
   "execution_count": 7,
   "metadata": {},
   "outputs": [
    {
     "output_type": "execute_result",
     "data": {
      "text/plain": "Index(['Unnamed: 0', 'Area / Locality', 'CITY', 'Cust Type', 'Customer No.',\n       'District', 'Gate Pass Time', 'Invoice Date', 'Invoice No',\n       'Invoice Time', 'Job Card No', 'JobCard Date', 'JobCard Time',\n       'KMs Reading', 'Labour Total', 'Make', 'Model', 'Order Type',\n       'Pin code', 'Plant', 'Plant Name1', 'Print Status', 'Regn No',\n       'Total Amt Wtd Tax.', 'User ID'],\n      dtype='object')"
     },
     "metadata": {},
     "execution_count": 7
    }
   ],
   "source": [
    "invoice.columns"
   ]
  },
  {
   "cell_type": "markdown",
   "metadata": {},
   "source": [
    "## Dropping unnecessary columns"
   ]
  },
  {
   "cell_type": "code",
   "execution_count": 8,
   "metadata": {},
   "outputs": [
    {
     "output_type": "execute_result",
     "data": {
      "text/plain": "Index(['Area / Locality', 'CITY', 'Cust Type', 'Customer No.', 'District',\n       'Gate Pass Time', 'Invoice Date', 'Invoice No', 'Invoice Time',\n       'Job Card No', 'JobCard Date', 'JobCard Time', 'KMs Reading',\n       'Labour Total', 'Make', 'Model', 'Order Type', 'Pin code', 'Plant',\n       'Plant Name1', 'Regn No', 'Total Amt Wtd Tax.', 'User ID'],\n      dtype='object')"
     },
     "metadata": {},
     "execution_count": 8
    }
   ],
   "source": [
    "# inventory = inventory.drop(['Unnamed: 0'], 1)\n",
    "invoice = invoice.drop(['Unnamed: 0', 'Print Status',], 1)\n",
    "invoice.columns\n"
   ]
  },
  {
   "cell_type": "code",
   "execution_count": 9,
   "metadata": {},
   "outputs": [
    {
     "output_type": "execute_result",
     "data": {
      "text/plain": "(492314, 23)"
     },
     "metadata": {},
     "execution_count": 9
    }
   ],
   "source": [
    "invoice.shape"
   ]
  },
  {
   "cell_type": "markdown",
   "metadata": {},
   "source": [
    "## Renaming columns to python friendly names"
   ]
  },
  {
   "cell_type": "code",
   "execution_count": 10,
   "metadata": {},
   "outputs": [],
   "source": [
    "columns = {\n",
    "    'Business Partner': 'business_partner', \n",
    "    'Customer No.': 'customer_no',\n",
    "    'Partner Type': 'partner_type',\n",
    "    'Data Origin': 'data_origin',\n",
    "    'Title': 'title'\n",
    "    }\n",
    "\n",
    "# customer = customer.rename(columns=columns)\n",
    "# customer.columns"
   ]
  },
  {
   "cell_type": "code",
   "execution_count": 11,
   "metadata": {},
   "outputs": [],
   "source": [
    "columns = {\n",
    "    'DBM Order': 'job_card_no', \n",
    "    'Order Item': 'order_item',\n",
    "    'Material': 'material',\n",
    "    'Description': 'description',\n",
    "    'Item Category': 'item_category',\n",
    "    'Order Quantity': 'order_quantity',\n",
    "    'Target quantity UoM': 'target_quantity_unit',\n",
    "    'Net value': 'net_value'\n",
    "    }\n",
    "\n",
    "# inventory = inventory.rename(columns=columns)\n",
    "# inventory.columns"
   ]
  },
  {
   "cell_type": "code",
   "execution_count": 12,
   "metadata": {},
   "outputs": [
    {
     "output_type": "execute_result",
     "data": {
      "text/plain": "Index(['locality', 'city', 'customer_type', 'customer_no', 'district',\n       'gate_pass_time', 'invoice_date', 'invoice_no', 'invoice_time',\n       'job_card_no', 'job_card_date', 'job_card_time', 'km_reading',\n       'labour_total', 'make', 'model', 'order_type', 'pin_code', 'plant_code',\n       'plant_name', 'regn_no', 'total_amt', 'user_id'],\n      dtype='object')"
     },
     "metadata": {},
     "execution_count": 12
    }
   ],
   "source": [
    "columns = {\n",
    "    'Area / Locality': 'locality',\n",
    "    'CITY': 'city',\n",
    "    'Cust Type': 'customer_type',\n",
    "    'Customer No.': 'customer_no',\n",
    "    'District': 'district',\n",
    "    'Gate Pass Time': 'gate_pass_time', \n",
    "    'Invoice Date': 'invoice_date',\n",
    "    'Invoice No': 'invoice_no' ,\n",
    "    'Invoice Time': 'invoice_time',\n",
    "    'Job Card No': 'job_card_no',\n",
    "    'JobCard Date': 'job_card_date',\n",
    "    'JobCard Time': 'job_card_time',\n",
    "    'KMs Reading': 'km_reading',\n",
    "    'Labour Total': 'labour_total',\n",
    "    'Make': 'make',\n",
    "    'Model': 'model',\n",
    "    'ODN No.': 'odn_no',\n",
    "    'Order Type': 'order_type',\n",
    "    'Parts Total': 'parts_total',\n",
    "    'Pin code': 'pin_code',\n",
    "    'Plant': 'plant_code',\n",
    "    'Plant Name1': 'plant_name',\n",
    "    'Print Status': 'print_status',\n",
    "    'Regn No': 'regn_no',\n",
    "    'Technician Name': 'technician_name',\n",
    "    'Total Amt Wtd Tax.': 'total_amt',\n",
    "    'Total Value': 'total_value',\n",
    "    'User ID': 'user_id'\n",
    "    }\n",
    "\n",
    "invoice = invoice.rename(columns=columns)\n",
    "invoice.columns"
   ]
  },
  {
   "cell_type": "markdown",
   "metadata": {},
   "source": [
    "## Getting location data from pincode using pgeocode lib"
   ]
  },
  {
   "cell_type": "code",
   "execution_count": 13,
   "metadata": {},
   "outputs": [],
   "source": [
    "\n",
    "country = pgeocode.Nominatim(\"in\")\n",
    "\n",
    "invoice[\"pin_city\"]=country.query_postal_code(np.array(invoice[\"pin_code\"].astype(str))).county_name\n",
    "invoice[\"pin_district\"]=country.query_postal_code(np.array(invoice[\"pin_code\"].astype(str))).state_name\n",
    "invoice[\"pin_location\"]=country.query_postal_code(np.array(invoice[\"pin_code\"].astype(str))).place_name\n",
    "invoice[\"latitude\"]=country.query_postal_code(np.array(invoice[\"pin_code\"].astype(str))).latitude\n",
    "invoice[\"longitude\"]=country.query_postal_code(np.array(invoice[\"pin_code\"].astype(str))).longitude\n"
   ]
  },
  {
   "cell_type": "code",
   "execution_count": 14,
   "metadata": {},
   "outputs": [
    {
     "output_type": "execute_result",
     "data": {
      "text/plain": "           pin_city pin_district  \\\n0             Thane  Maharashtra   \n1             Thane  Maharashtra   \n2             Thane  Maharashtra   \n3             Thane  Maharashtra   \n4             Thane  Maharashtra   \n...             ...          ...   \n492309   Tiruvallur   Tamil Nadu   \n492310  Kanchipuram   Tamil Nadu   \n492311  Kanchipuram   Tamil Nadu   \n492312      Chennai   Tamil Nadu   \n492313  Kanchipuram   Tamil Nadu   \n\n                                             pin_location  latitude  longitude  \n0                      Thane Bazar, Thane H.O, Thane R.S.   19.1941  73.000200  \n1                                Thane East, Kopri Colony   19.1941  73.000200  \n2                          Chitalsar Manpada, Sandozbaugh   19.1941  73.000200  \n3                                Thane East, Kopri Colony   19.1941  73.000200  \n4                                Thane East, Kopri Colony   19.1941  73.000200  \n...                                                   ...       ...        ...  \n492309                    Ambattur Indl Estate, Athipattu   13.0252  79.856200  \n492310                       Adambakkam, Nilamangai Nagar   12.9918  80.203500  \n492311  Lakshmipuram, Chromepet, Nehrunagar, Nagalkeni...   12.6668  80.059112  \n492312                                          Velacheri   13.0647  80.252300  \n492313  Chennai Airport, Meenambakkam, St.Thomas Mount...   12.9846  80.174700  \n\n[492314 rows x 5 columns]",
      "text/html": "<div>\n<style scoped>\n    .dataframe tbody tr th:only-of-type {\n        vertical-align: middle;\n    }\n\n    .dataframe tbody tr th {\n        vertical-align: top;\n    }\n\n    .dataframe thead th {\n        text-align: right;\n    }\n</style>\n<table border=\"1\" class=\"dataframe\">\n  <thead>\n    <tr style=\"text-align: right;\">\n      <th></th>\n      <th>pin_city</th>\n      <th>pin_district</th>\n      <th>pin_location</th>\n      <th>latitude</th>\n      <th>longitude</th>\n    </tr>\n  </thead>\n  <tbody>\n    <tr>\n      <th>0</th>\n      <td>Thane</td>\n      <td>Maharashtra</td>\n      <td>Thane Bazar, Thane H.O, Thane R.S.</td>\n      <td>19.1941</td>\n      <td>73.000200</td>\n    </tr>\n    <tr>\n      <th>1</th>\n      <td>Thane</td>\n      <td>Maharashtra</td>\n      <td>Thane East, Kopri Colony</td>\n      <td>19.1941</td>\n      <td>73.000200</td>\n    </tr>\n    <tr>\n      <th>2</th>\n      <td>Thane</td>\n      <td>Maharashtra</td>\n      <td>Chitalsar Manpada, Sandozbaugh</td>\n      <td>19.1941</td>\n      <td>73.000200</td>\n    </tr>\n    <tr>\n      <th>3</th>\n      <td>Thane</td>\n      <td>Maharashtra</td>\n      <td>Thane East, Kopri Colony</td>\n      <td>19.1941</td>\n      <td>73.000200</td>\n    </tr>\n    <tr>\n      <th>4</th>\n      <td>Thane</td>\n      <td>Maharashtra</td>\n      <td>Thane East, Kopri Colony</td>\n      <td>19.1941</td>\n      <td>73.000200</td>\n    </tr>\n    <tr>\n      <th>...</th>\n      <td>...</td>\n      <td>...</td>\n      <td>...</td>\n      <td>...</td>\n      <td>...</td>\n    </tr>\n    <tr>\n      <th>492309</th>\n      <td>Tiruvallur</td>\n      <td>Tamil Nadu</td>\n      <td>Ambattur Indl Estate, Athipattu</td>\n      <td>13.0252</td>\n      <td>79.856200</td>\n    </tr>\n    <tr>\n      <th>492310</th>\n      <td>Kanchipuram</td>\n      <td>Tamil Nadu</td>\n      <td>Adambakkam, Nilamangai Nagar</td>\n      <td>12.9918</td>\n      <td>80.203500</td>\n    </tr>\n    <tr>\n      <th>492311</th>\n      <td>Kanchipuram</td>\n      <td>Tamil Nadu</td>\n      <td>Lakshmipuram, Chromepet, Nehrunagar, Nagalkeni...</td>\n      <td>12.6668</td>\n      <td>80.059112</td>\n    </tr>\n    <tr>\n      <th>492312</th>\n      <td>Chennai</td>\n      <td>Tamil Nadu</td>\n      <td>Velacheri</td>\n      <td>13.0647</td>\n      <td>80.252300</td>\n    </tr>\n    <tr>\n      <th>492313</th>\n      <td>Kanchipuram</td>\n      <td>Tamil Nadu</td>\n      <td>Chennai Airport, Meenambakkam, St.Thomas Mount...</td>\n      <td>12.9846</td>\n      <td>80.174700</td>\n    </tr>\n  </tbody>\n</table>\n<p>492314 rows × 5 columns</p>\n</div>"
     },
     "metadata": {},
     "execution_count": 14
    }
   ],
   "source": [
    "invoice[[\"pin_city\", \"pin_district\", \"pin_location\", \"latitude\", \"longitude\"]]\n"
   ]
  },
  {
   "cell_type": "markdown",
   "metadata": {},
   "source": [
    "## Imputing missing values with mode"
   ]
  },
  {
   "cell_type": "code",
   "execution_count": 15,
   "metadata": {},
   "outputs": [],
   "source": [
    "def impute_with_least(df, col):\n",
    "    least = invoice[col].value_counts().index[-1]\n",
    "    df[col].fillna(least, inplace=True)\n",
    "\n",
    "def impute_forwar_fill(df, col):\n",
    "    df[col].fillna(method=\"ffill\", inplace=True)\n"
   ]
  },
  {
   "cell_type": "code",
   "execution_count": 17,
   "metadata": {},
   "outputs": [],
   "source": [
    "for col in [\"pin_city\", \"pin_district\", \"pin_location\", \"latitude\", \"longitude\"]:\n",
    "    impute_forwar_fill(invoice, col)"
   ]
  },
  {
   "cell_type": "code",
   "execution_count": 23,
   "metadata": {},
   "outputs": [
    {
     "output_type": "execute_result",
     "data": {
      "text/plain": "customer_type        0\ncustomer_no          0\ngate_pass_time       0\ninvoice_date         0\ninvoice_no           0\ninvoice_time         0\njob_card_no          0\njob_card_date        0\njob_card_time        0\nkm_reading           0\nlabour_total         0\nmake                 0\nmodel             1525\norder_type           0\npin_code             0\nplant_code           0\nplant_name           0\nregn_no              0\ntotal_amt            0\nuser_id              0\npin_city             0\npin_district         0\npin_location         0\nlatitude             0\nlongitude            0\ndtype: int64"
     },
     "metadata": {},
     "execution_count": 23
    }
   ],
   "source": [
    "missing_values_counts(invoice)"
   ]
  },
  {
   "cell_type": "code",
   "execution_count": 22,
   "metadata": {},
   "outputs": [],
   "source": [
    "invoice.drop(['locality', \"district\", \"city\"], 1, inplace=True)"
   ]
  },
  {
   "cell_type": "code",
   "execution_count": 24,
   "metadata": {},
   "outputs": [],
   "source": [
    "path = \"data/clean_invoice.csv\"\n",
    "invoice.to_csv(path, index=False, encoding='utf-8')"
   ]
  },
  {
   "cell_type": "code",
   "execution_count": 19,
   "metadata": {},
   "outputs": [],
   "source": [
    "regn_mode = invoice.regn_no.mode()[0]\n",
    "invoice.regn_no.fillna(regn_mode, inplace=True)"
   ]
  },
  {
   "cell_type": "code",
   "execution_count": 16,
   "metadata": {},
   "outputs": [
    {
     "output_type": "execute_result",
     "data": {
      "text/plain": "regn_no    0\ndtype: int64"
     },
     "metadata": {},
     "execution_count": 16
    }
   ],
   "source": [
    "missing_values_counts(invoice[[\"regn_no\"]])"
   ]
  },
  {
   "cell_type": "code",
   "execution_count": 21,
   "metadata": {},
   "outputs": [
    {
     "output_type": "execute_result",
     "data": {
      "text/plain": "pin_city        0.0\npin_district    0.0\npin_location    0.0\nlatitude        0.0\nlongitude       0.0\ndtype: float64"
     },
     "metadata": {},
     "execution_count": 21
    }
   ],
   "source": [
    "missing_values_percent(invoice[[\"pin_city\", \"pin_district\", \"pin_location\", \"latitude\", \"longitude\"]])"
   ]
  },
  {
   "cell_type": "code",
   "execution_count": 18,
   "metadata": {},
   "outputs": [],
   "source": [
    "def impute_with_mode(df:pd.DataFrame, columns:list) -> pd.Series:\n",
    "    \n",
    "    for col in columns:\n",
    "        mode = df.col.mode()[0]\n",
    "        df.col = df.col.fillna(mode)\n",
    "    \n",
    "    return df"
   ]
  },
  {
   "cell_type": "code",
   "execution_count": 19,
   "metadata": {},
   "outputs": [
    {
     "output_type": "execute_result",
     "data": {
      "text/plain": "    rto office_type office_location state_code     state_name\n0  cg04         rto          raipur         cg    chattisgarh\n1  cg10         rto       bilashpur         cg    chattisgarh\n2  cg17         rto       jagdalpur         cg    chattisgarh\n3  dd02         rto             diu         dd  daman and diu\n4  dd03         rto           daman         dd  daman and diu",
      "text/html": "<div>\n<style scoped>\n    .dataframe tbody tr th:only-of-type {\n        vertical-align: middle;\n    }\n\n    .dataframe tbody tr th {\n        vertical-align: top;\n    }\n\n    .dataframe thead th {\n        text-align: right;\n    }\n</style>\n<table border=\"1\" class=\"dataframe\">\n  <thead>\n    <tr style=\"text-align: right;\">\n      <th></th>\n      <th>rto</th>\n      <th>office_type</th>\n      <th>office_location</th>\n      <th>state_code</th>\n      <th>state_name</th>\n    </tr>\n  </thead>\n  <tbody>\n    <tr>\n      <th>0</th>\n      <td>cg04</td>\n      <td>rto</td>\n      <td>raipur</td>\n      <td>cg</td>\n      <td>chattisgarh</td>\n    </tr>\n    <tr>\n      <th>1</th>\n      <td>cg10</td>\n      <td>rto</td>\n      <td>bilashpur</td>\n      <td>cg</td>\n      <td>chattisgarh</td>\n    </tr>\n    <tr>\n      <th>2</th>\n      <td>cg17</td>\n      <td>rto</td>\n      <td>jagdalpur</td>\n      <td>cg</td>\n      <td>chattisgarh</td>\n    </tr>\n    <tr>\n      <th>3</th>\n      <td>dd02</td>\n      <td>rto</td>\n      <td>diu</td>\n      <td>dd</td>\n      <td>daman and diu</td>\n    </tr>\n    <tr>\n      <th>4</th>\n      <td>dd03</td>\n      <td>rto</td>\n      <td>daman</td>\n      <td>dd</td>\n      <td>daman and diu</td>\n    </tr>\n  </tbody>\n</table>\n</div>"
     },
     "metadata": {},
     "execution_count": 19
    }
   ],
   "source": [
    "path = \"data/rto_data.csv\"\n",
    "rto = pd.read_csv(path)\n",
    "\n",
    "rto.head()\n"
   ]
  },
  {
   "cell_type": "code",
   "execution_count": 20,
   "metadata": {},
   "outputs": [],
   "source": [
    "import re\n",
    "\n",
    "def get_rto_code(num:str) -> str:\n",
    "    pat = re.compile(r\"^[a-z]{2}[0-9]{1,2}\")\n",
    "    match = re.match(pat, (num))\n",
    "\n",
    "    if match:\n",
    "        return match.group()\n",
    "\n",
    "# x = get_rto_code(invoice.regn_no[0])\n",
    "# print(x)"
   ]
  },
  {
   "cell_type": "code",
   "execution_count": 21,
   "metadata": {},
   "outputs": [
    {
     "output_type": "execute_result",
     "data": {
      "text/plain": "0         ka19\n1         mh43\n2         ap09\n3         mh43\n4         mh04\n          ... \n492309    tn38\n492310    tn22\n492311    tn07\n492312    tn07\n492313    tn10\nName: rto_code, Length: 492314, dtype: object"
     },
     "metadata": {},
     "execution_count": 21
    }
   ],
   "source": [
    "invoice[\"rto_code\"] = invoice.regn_no.apply(get_rto_code)\n",
    "invoice.rto_code"
   ]
  },
  {
   "cell_type": "code",
   "execution_count": 22,
   "metadata": {},
   "outputs": [
    {
     "output_type": "execute_result",
     "data": {
      "text/plain": "rto_code    0\ndtype: int64"
     },
     "metadata": {},
     "execution_count": 22
    }
   ],
   "source": [
    "least = invoice.rto_code.value_counts().index[-1]\n",
    "invoice.rto_code.fillna(least, inplace=True)\n",
    "invoice[[\"rto_code\"]].isnull().sum()"
   ]
  },
  {
   "cell_type": "code",
   "execution_count": 60,
   "metadata": {},
   "outputs": [],
   "source": [
    "# invoice[invoice.rto_code == rto]"
   ]
  },
  {
   "cell_type": "code",
   "execution_count": 64,
   "metadata": {},
   "outputs": [
    {
     "output_type": "execute_result",
     "data": {
      "text/plain": "'thane'"
     },
     "metadata": {},
     "execution_count": 64
    }
   ],
   "source": [
    "def get_city_from_rto(rto):\n",
    "    result = invoice[invoice.rto_code == rto]\n",
    "    return result['city'].value_counts().index[0]\n",
    "\n",
    "get_city_from_rto(\"mh04\")"
   ]
  },
  {
   "cell_type": "code",
   "execution_count": 41,
   "metadata": {},
   "outputs": [],
   "source": [
    "\n",
    "\n",
    "invoice.pin_city.apply(get_city_from_rto)"
   ]
  },
  {
   "cell_type": "code",
   "execution_count": 44,
   "metadata": {
    "tags": [
     "outputPrepend",
     "outputPrepend",
     "outputPrepend",
     "outputPrepend",
     "outputPrepend",
     "outputPrepend",
     "outputPrepend",
     "outputPrepend",
     "outputPrepend",
     "outputPrepend",
     "outputPrepend",
     "outputPrepend",
     "outputPrepend",
     "outputPrepend",
     "outputPrepend",
     "outputPrepend",
     "outputPrepend",
     "outputPrepend",
     "outputPrepend",
     "outputPrepend",
     "outputPrepend",
     "outputPrepend",
     "outputPrepend",
     "outputPrepend",
     "outputPrepend",
     "outputPrepend",
     "outputPrepend",
     "outputPrepend",
     "outputPrepend",
     "outputPrepend",
     "outputPrepend",
     "outputPrepend",
     "outputPrepend"
    ]
   },
   "outputs": [
    {
     "output_type": "execute_result",
     "data": {
      "text/plain": "Int64Index([    25,     29,     85,     97,    106,    107,    116,    120,\n               142,    145,\n            ...\n            492061, 492066, 492100, 492127, 492144, 492150, 492161, 492168,\n            492262, 492308],\n           dtype='int64', length=47246)"
     },
     "metadata": {},
     "execution_count": 44
    }
   ],
   "source": [
    "# rows_with_nan = [index for index, row in invoice.iterrows() if row.isnull().any()]\n",
    "\n",
    "# for val in invoice.pin_city:\n",
    "#     if val.isna():\n",
    "#         print(type(val))\n",
    "\n",
    "import numpy as np\n",
    "\n",
    "# df = invoice\n",
    "# index = df[\"pin_city\"].index[df['pin_city'].apply(np.isnan)]\n",
    "\n",
    "\n",
    "indices = df.loc[pd.isna(df[\"pin_city\"]), :].index\n",
    "\n",
    "indices\n"
   ]
  },
  {
   "cell_type": "code",
   "execution_count": 62,
   "metadata": {},
   "outputs": [],
   "source": [
    "# for i in indices:\n",
    "#     invoice.pin_city[i] = get_city_from_rto(invoice.rto_code[i])"
   ]
  },
  {
   "cell_type": "code",
   "execution_count": 65,
   "metadata": {},
   "outputs": [
    {
     "output_type": "error",
     "ename": "ValueError",
     "evalue": "Can only compare identically-labeled Series objects",
     "traceback": [
      "\u001b[1;31m---------------------------------------------------------------------------\u001b[0m",
      "\u001b[1;31mValueError\u001b[0m                                Traceback (most recent call last)",
      "\u001b[1;32m<ipython-input-65-6b798671525a>\u001b[0m in \u001b[0;36m<module>\u001b[1;34m\u001b[0m\n\u001b[0;32m      1\u001b[0m \u001b[0minvoice\u001b[0m\u001b[1;33m.\u001b[0m\u001b[0mreset_index\u001b[0m\u001b[1;33m(\u001b[0m\u001b[0mdrop\u001b[0m\u001b[1;33m=\u001b[0m\u001b[1;32mTrue\u001b[0m\u001b[1;33m)\u001b[0m\u001b[1;33m\u001b[0m\u001b[1;33m\u001b[0m\u001b[0m\n\u001b[0;32m      2\u001b[0m \u001b[1;33m\u001b[0m\u001b[0m\n\u001b[1;32m----> 3\u001b[1;33m \u001b[0minvoice\u001b[0m\u001b[1;33m[\u001b[0m\u001b[1;33m[\u001b[0m\u001b[1;34m'pin_city'\u001b[0m\u001b[1;33m]\u001b[0m\u001b[1;33m]\u001b[0m\u001b[1;33m.\u001b[0m\u001b[0mapply\u001b[0m\u001b[1;33m(\u001b[0m\u001b[1;32mlambda\u001b[0m \u001b[0mx\u001b[0m\u001b[1;33m:\u001b[0m \u001b[0mget_city_from_rto\u001b[0m\u001b[1;33m(\u001b[0m\u001b[0mx\u001b[0m\u001b[1;33m)\u001b[0m \u001b[1;32mif\u001b[0m \u001b[0mnp\u001b[0m\u001b[1;33m.\u001b[0m\u001b[0mall\u001b[0m\u001b[1;33m(\u001b[0m\u001b[0mpd\u001b[0m\u001b[1;33m.\u001b[0m\u001b[0misnull\u001b[0m\u001b[1;33m(\u001b[0m\u001b[0mx\u001b[0m\u001b[1;33m)\u001b[0m\u001b[1;33m)\u001b[0m \u001b[1;32melse\u001b[0m \u001b[0mx\u001b[0m\u001b[1;33m,\u001b[0m \u001b[0maxis\u001b[0m\u001b[1;33m=\u001b[0m\u001b[1;36m1\u001b[0m\u001b[1;33m)\u001b[0m\u001b[1;33m\u001b[0m\u001b[1;33m\u001b[0m\u001b[0m\n\u001b[0m",
      "\u001b[1;32m~\\AppData\\Local\\Programs\\Python\\Python37-32\\lib\\site-packages\\pandas\\core\\frame.py\u001b[0m in \u001b[0;36mapply\u001b[1;34m(self, func, axis, raw, result_type, args, **kwds)\u001b[0m\n\u001b[0;32m   6876\u001b[0m             \u001b[0mkwds\u001b[0m\u001b[1;33m=\u001b[0m\u001b[0mkwds\u001b[0m\u001b[1;33m,\u001b[0m\u001b[1;33m\u001b[0m\u001b[1;33m\u001b[0m\u001b[0m\n\u001b[0;32m   6877\u001b[0m         )\n\u001b[1;32m-> 6878\u001b[1;33m         \u001b[1;32mreturn\u001b[0m \u001b[0mop\u001b[0m\u001b[1;33m.\u001b[0m\u001b[0mget_result\u001b[0m\u001b[1;33m(\u001b[0m\u001b[1;33m)\u001b[0m\u001b[1;33m\u001b[0m\u001b[1;33m\u001b[0m\u001b[0m\n\u001b[0m\u001b[0;32m   6879\u001b[0m \u001b[1;33m\u001b[0m\u001b[0m\n\u001b[0;32m   6880\u001b[0m     \u001b[1;32mdef\u001b[0m \u001b[0mapplymap\u001b[0m\u001b[1;33m(\u001b[0m\u001b[0mself\u001b[0m\u001b[1;33m,\u001b[0m \u001b[0mfunc\u001b[0m\u001b[1;33m)\u001b[0m \u001b[1;33m->\u001b[0m \u001b[1;34m\"DataFrame\"\u001b[0m\u001b[1;33m:\u001b[0m\u001b[1;33m\u001b[0m\u001b[1;33m\u001b[0m\u001b[0m\n",
      "\u001b[1;32m~\\AppData\\Local\\Programs\\Python\\Python37-32\\lib\\site-packages\\pandas\\core\\apply.py\u001b[0m in \u001b[0;36mget_result\u001b[1;34m(self)\u001b[0m\n\u001b[0;32m    184\u001b[0m             \u001b[1;32mreturn\u001b[0m \u001b[0mself\u001b[0m\u001b[1;33m.\u001b[0m\u001b[0mapply_raw\u001b[0m\u001b[1;33m(\u001b[0m\u001b[1;33m)\u001b[0m\u001b[1;33m\u001b[0m\u001b[1;33m\u001b[0m\u001b[0m\n\u001b[0;32m    185\u001b[0m \u001b[1;33m\u001b[0m\u001b[0m\n\u001b[1;32m--> 186\u001b[1;33m         \u001b[1;32mreturn\u001b[0m \u001b[0mself\u001b[0m\u001b[1;33m.\u001b[0m\u001b[0mapply_standard\u001b[0m\u001b[1;33m(\u001b[0m\u001b[1;33m)\u001b[0m\u001b[1;33m\u001b[0m\u001b[1;33m\u001b[0m\u001b[0m\n\u001b[0m\u001b[0;32m    187\u001b[0m \u001b[1;33m\u001b[0m\u001b[0m\n\u001b[0;32m    188\u001b[0m     \u001b[1;32mdef\u001b[0m \u001b[0mapply_empty_result\u001b[0m\u001b[1;33m(\u001b[0m\u001b[0mself\u001b[0m\u001b[1;33m)\u001b[0m\u001b[1;33m:\u001b[0m\u001b[1;33m\u001b[0m\u001b[1;33m\u001b[0m\u001b[0m\n",
      "\u001b[1;32m~\\AppData\\Local\\Programs\\Python\\Python37-32\\lib\\site-packages\\pandas\\core\\apply.py\u001b[0m in \u001b[0;36mapply_standard\u001b[1;34m(self)\u001b[0m\n\u001b[0;32m    311\u001b[0m \u001b[1;33m\u001b[0m\u001b[0m\n\u001b[0;32m    312\u001b[0m         \u001b[1;31m# compute the result using the series generator\u001b[0m\u001b[1;33m\u001b[0m\u001b[1;33m\u001b[0m\u001b[1;33m\u001b[0m\u001b[0m\n\u001b[1;32m--> 313\u001b[1;33m         \u001b[0mresults\u001b[0m\u001b[1;33m,\u001b[0m \u001b[0mres_index\u001b[0m \u001b[1;33m=\u001b[0m \u001b[0mself\u001b[0m\u001b[1;33m.\u001b[0m\u001b[0mapply_series_generator\u001b[0m\u001b[1;33m(\u001b[0m\u001b[1;33m)\u001b[0m\u001b[1;33m\u001b[0m\u001b[1;33m\u001b[0m\u001b[0m\n\u001b[0m\u001b[0;32m    314\u001b[0m \u001b[1;33m\u001b[0m\u001b[0m\n\u001b[0;32m    315\u001b[0m         \u001b[1;31m# wrap results\u001b[0m\u001b[1;33m\u001b[0m\u001b[1;33m\u001b[0m\u001b[1;33m\u001b[0m\u001b[0m\n",
      "\u001b[1;32m~\\AppData\\Local\\Programs\\Python\\Python37-32\\lib\\site-packages\\pandas\\core\\apply.py\u001b[0m in \u001b[0;36mapply_series_generator\u001b[1;34m(self)\u001b[0m\n\u001b[0;32m    339\u001b[0m         \u001b[1;32melse\u001b[0m\u001b[1;33m:\u001b[0m\u001b[1;33m\u001b[0m\u001b[1;33m\u001b[0m\u001b[0m\n\u001b[0;32m    340\u001b[0m             \u001b[1;32mfor\u001b[0m \u001b[0mi\u001b[0m\u001b[1;33m,\u001b[0m \u001b[0mv\u001b[0m \u001b[1;32min\u001b[0m \u001b[0menumerate\u001b[0m\u001b[1;33m(\u001b[0m\u001b[0mseries_gen\u001b[0m\u001b[1;33m)\u001b[0m\u001b[1;33m:\u001b[0m\u001b[1;33m\u001b[0m\u001b[1;33m\u001b[0m\u001b[0m\n\u001b[1;32m--> 341\u001b[1;33m                 \u001b[0mresults\u001b[0m\u001b[1;33m[\u001b[0m\u001b[0mi\u001b[0m\u001b[1;33m]\u001b[0m \u001b[1;33m=\u001b[0m \u001b[0mself\u001b[0m\u001b[1;33m.\u001b[0m\u001b[0mf\u001b[0m\u001b[1;33m(\u001b[0m\u001b[0mv\u001b[0m\u001b[1;33m)\u001b[0m\u001b[1;33m\u001b[0m\u001b[1;33m\u001b[0m\u001b[0m\n\u001b[0m\u001b[0;32m    342\u001b[0m                 \u001b[0mkeys\u001b[0m\u001b[1;33m.\u001b[0m\u001b[0mappend\u001b[0m\u001b[1;33m(\u001b[0m\u001b[0mv\u001b[0m\u001b[1;33m.\u001b[0m\u001b[0mname\u001b[0m\u001b[1;33m)\u001b[0m\u001b[1;33m\u001b[0m\u001b[1;33m\u001b[0m\u001b[0m\n\u001b[0;32m    343\u001b[0m \u001b[1;33m\u001b[0m\u001b[0m\n",
      "\u001b[1;32m<ipython-input-65-6b798671525a>\u001b[0m in \u001b[0;36m<lambda>\u001b[1;34m(x)\u001b[0m\n\u001b[0;32m      1\u001b[0m \u001b[0minvoice\u001b[0m\u001b[1;33m.\u001b[0m\u001b[0mreset_index\u001b[0m\u001b[1;33m(\u001b[0m\u001b[0mdrop\u001b[0m\u001b[1;33m=\u001b[0m\u001b[1;32mTrue\u001b[0m\u001b[1;33m)\u001b[0m\u001b[1;33m\u001b[0m\u001b[1;33m\u001b[0m\u001b[0m\n\u001b[0;32m      2\u001b[0m \u001b[1;33m\u001b[0m\u001b[0m\n\u001b[1;32m----> 3\u001b[1;33m \u001b[0minvoice\u001b[0m\u001b[1;33m[\u001b[0m\u001b[1;33m[\u001b[0m\u001b[1;34m'pin_city'\u001b[0m\u001b[1;33m]\u001b[0m\u001b[1;33m]\u001b[0m\u001b[1;33m.\u001b[0m\u001b[0mapply\u001b[0m\u001b[1;33m(\u001b[0m\u001b[1;32mlambda\u001b[0m \u001b[0mx\u001b[0m\u001b[1;33m:\u001b[0m \u001b[0mget_city_from_rto\u001b[0m\u001b[1;33m(\u001b[0m\u001b[0mx\u001b[0m\u001b[1;33m)\u001b[0m \u001b[1;32mif\u001b[0m \u001b[0mnp\u001b[0m\u001b[1;33m.\u001b[0m\u001b[0mall\u001b[0m\u001b[1;33m(\u001b[0m\u001b[0mpd\u001b[0m\u001b[1;33m.\u001b[0m\u001b[0misnull\u001b[0m\u001b[1;33m(\u001b[0m\u001b[0mx\u001b[0m\u001b[1;33m)\u001b[0m\u001b[1;33m)\u001b[0m \u001b[1;32melse\u001b[0m \u001b[0mx\u001b[0m\u001b[1;33m,\u001b[0m \u001b[0maxis\u001b[0m\u001b[1;33m=\u001b[0m\u001b[1;36m1\u001b[0m\u001b[1;33m)\u001b[0m\u001b[1;33m\u001b[0m\u001b[1;33m\u001b[0m\u001b[0m\n\u001b[0m",
      "\u001b[1;32m<ipython-input-64-76b5bf4d5d22>\u001b[0m in \u001b[0;36mget_city_from_rto\u001b[1;34m(rto)\u001b[0m\n\u001b[0;32m      1\u001b[0m \u001b[1;32mdef\u001b[0m \u001b[0mget_city_from_rto\u001b[0m\u001b[1;33m(\u001b[0m\u001b[0mrto\u001b[0m\u001b[1;33m)\u001b[0m\u001b[1;33m:\u001b[0m\u001b[1;33m\u001b[0m\u001b[1;33m\u001b[0m\u001b[0m\n\u001b[1;32m----> 2\u001b[1;33m     \u001b[0mresult\u001b[0m \u001b[1;33m=\u001b[0m \u001b[0minvoice\u001b[0m\u001b[1;33m[\u001b[0m\u001b[0minvoice\u001b[0m\u001b[1;33m.\u001b[0m\u001b[0mrto_code\u001b[0m \u001b[1;33m==\u001b[0m \u001b[0mrto\u001b[0m\u001b[1;33m]\u001b[0m\u001b[1;33m\u001b[0m\u001b[1;33m\u001b[0m\u001b[0m\n\u001b[0m\u001b[0;32m      3\u001b[0m     \u001b[1;32mreturn\u001b[0m \u001b[0mresult\u001b[0m\u001b[1;33m[\u001b[0m\u001b[1;34m'city'\u001b[0m\u001b[1;33m]\u001b[0m\u001b[1;33m.\u001b[0m\u001b[0mvalue_counts\u001b[0m\u001b[1;33m(\u001b[0m\u001b[1;33m)\u001b[0m\u001b[1;33m.\u001b[0m\u001b[0mindex\u001b[0m\u001b[1;33m[\u001b[0m\u001b[1;36m0\u001b[0m\u001b[1;33m]\u001b[0m\u001b[1;33m\u001b[0m\u001b[1;33m\u001b[0m\u001b[0m\n\u001b[0;32m      4\u001b[0m \u001b[1;33m\u001b[0m\u001b[0m\n\u001b[0;32m      5\u001b[0m \u001b[0mget_city_from_rto\u001b[0m\u001b[1;33m(\u001b[0m\u001b[1;34m\"mh04\"\u001b[0m\u001b[1;33m)\u001b[0m\u001b[1;33m\u001b[0m\u001b[1;33m\u001b[0m\u001b[0m\n",
      "\u001b[1;32m~\\AppData\\Local\\Programs\\Python\\Python37-32\\lib\\site-packages\\pandas\\core\\ops\\common.py\u001b[0m in \u001b[0;36mnew_method\u001b[1;34m(self, other)\u001b[0m\n\u001b[0;32m     62\u001b[0m         \u001b[0mother\u001b[0m \u001b[1;33m=\u001b[0m \u001b[0mitem_from_zerodim\u001b[0m\u001b[1;33m(\u001b[0m\u001b[0mother\u001b[0m\u001b[1;33m)\u001b[0m\u001b[1;33m\u001b[0m\u001b[1;33m\u001b[0m\u001b[0m\n\u001b[0;32m     63\u001b[0m \u001b[1;33m\u001b[0m\u001b[0m\n\u001b[1;32m---> 64\u001b[1;33m         \u001b[1;32mreturn\u001b[0m \u001b[0mmethod\u001b[0m\u001b[1;33m(\u001b[0m\u001b[0mself\u001b[0m\u001b[1;33m,\u001b[0m \u001b[0mother\u001b[0m\u001b[1;33m)\u001b[0m\u001b[1;33m\u001b[0m\u001b[1;33m\u001b[0m\u001b[0m\n\u001b[0m\u001b[0;32m     65\u001b[0m \u001b[1;33m\u001b[0m\u001b[0m\n\u001b[0;32m     66\u001b[0m     \u001b[1;32mreturn\u001b[0m \u001b[0mnew_method\u001b[0m\u001b[1;33m\u001b[0m\u001b[1;33m\u001b[0m\u001b[0m\n",
      "\u001b[1;32m~\\AppData\\Local\\Programs\\Python\\Python37-32\\lib\\site-packages\\pandas\\core\\ops\\__init__.py\u001b[0m in \u001b[0;36mwrapper\u001b[1;34m(self, other)\u001b[0m\n\u001b[0;32m    519\u001b[0m \u001b[1;33m\u001b[0m\u001b[0m\n\u001b[0;32m    520\u001b[0m         \u001b[1;32mif\u001b[0m \u001b[0misinstance\u001b[0m\u001b[1;33m(\u001b[0m\u001b[0mother\u001b[0m\u001b[1;33m,\u001b[0m \u001b[0mABCSeries\u001b[0m\u001b[1;33m)\u001b[0m \u001b[1;32mand\u001b[0m \u001b[1;32mnot\u001b[0m \u001b[0mself\u001b[0m\u001b[1;33m.\u001b[0m\u001b[0m_indexed_same\u001b[0m\u001b[1;33m(\u001b[0m\u001b[0mother\u001b[0m\u001b[1;33m)\u001b[0m\u001b[1;33m:\u001b[0m\u001b[1;33m\u001b[0m\u001b[1;33m\u001b[0m\u001b[0m\n\u001b[1;32m--> 521\u001b[1;33m             \u001b[1;32mraise\u001b[0m \u001b[0mValueError\u001b[0m\u001b[1;33m(\u001b[0m\u001b[1;34m\"Can only compare identically-labeled Series objects\"\u001b[0m\u001b[1;33m)\u001b[0m\u001b[1;33m\u001b[0m\u001b[1;33m\u001b[0m\u001b[0m\n\u001b[0m\u001b[0;32m    522\u001b[0m \u001b[1;33m\u001b[0m\u001b[0m\n\u001b[0;32m    523\u001b[0m         \u001b[0mlvalues\u001b[0m \u001b[1;33m=\u001b[0m \u001b[0mextract_array\u001b[0m\u001b[1;33m(\u001b[0m\u001b[0mself\u001b[0m\u001b[1;33m,\u001b[0m \u001b[0mextract_numpy\u001b[0m\u001b[1;33m=\u001b[0m\u001b[1;32mTrue\u001b[0m\u001b[1;33m)\u001b[0m\u001b[1;33m\u001b[0m\u001b[1;33m\u001b[0m\u001b[0m\n",
      "\u001b[1;31mValueError\u001b[0m: Can only compare identically-labeled Series objects"
     ]
    }
   ],
   "source": [
    "invoice.reset_index(drop=True)\n",
    "\n",
    "invoice[['pin_city']].apply(lambda x: get_city_from_rto(x) if np.all(pd.isnull(x)) else x, axis=1)"
   ]
  },
  {
   "cell_type": "code",
   "execution_count": 30,
   "metadata": {},
   "outputs": [
    {
     "output_type": "execute_result",
     "data": {
      "text/plain": "'city'"
     },
     "metadata": {},
     "execution_count": 30
    }
   ],
   "source": [
    "def get_model_from_make(make):\n",
    "    # if not invoice['model'].notna():\n",
    "    #     return\n",
    "\n",
    "    result = invoice[invoice['make']==make]\n",
    "    return result['model'].value_counts().index[0]\n",
    "\n",
    "get_model_from_make(\"honda\")"
   ]
  },
  {
   "cell_type": "code",
   "execution_count": 135,
   "metadata": {},
   "outputs": [],
   "source": [
    "invoice.make.apply(get_model_from_make)"
   ]
  },
  {
   "cell_type": "code",
   "execution_count": 32,
   "metadata": {},
   "outputs": [
    {
     "output_type": "execute_result",
     "data": {
      "text/plain": "pin_city    47246\nrto_code     1053\ndtype: int64"
     },
     "metadata": {},
     "execution_count": 32
    }
   ],
   "source": [
    "invoice[[\"pin_city\", \"rto_code\"]].isnull().sum()"
   ]
  },
  {
   "cell_type": "code",
   "execution_count": 33,
   "metadata": {},
   "outputs": [
    {
     "output_type": "execute_result",
     "data": {
      "text/plain": "locality          23890\ncity                  1\ncustomer_type         0\ncustomer_no           0\ndistrict              0\ngate_pass_time        0\ninvoice_date          0\ninvoice_no            0\ninvoice_time          0\njob_card_no           0\njob_card_date         0\njob_card_time         0\nkm_reading            0\nlabour_total          0\nmake                  0\nmodel              1525\norder_type            0\npin_code              0\nplant_code            0\nplant_name            0\nregn_no               0\ntotal_amt             0\nuser_id               0\npin_city          47246\npin_district      47246\npin_location      47246\nlatitude          47246\nlongitude         47246\nrto_code           1053\ndtype: int64"
     },
     "metadata": {},
     "execution_count": 33
    }
   ],
   "source": [
    "missing_values_counts(invoice)"
   ]
  },
  {
   "cell_type": "code",
   "execution_count": null,
   "metadata": {},
   "outputs": [],
   "source": []
  }
 ],
 "metadata": {
  "language_info": {
   "codemirror_mode": {
    "name": "ipython",
    "version": 3
   },
   "file_extension": ".py",
   "mimetype": "text/x-python",
   "name": "python",
   "nbconvert_exporter": "python",
   "pygments_lexer": "ipython3",
   "version": "3.7.4-final"
  },
  "orig_nbformat": 2,
  "kernelspec": {
   "name": "python37432bitc1904522e8ce46829924bddcb110fc44",
   "display_name": "Python 3.7.4 32-bit"
  }
 },
 "nbformat": 4,
 "nbformat_minor": 2
}