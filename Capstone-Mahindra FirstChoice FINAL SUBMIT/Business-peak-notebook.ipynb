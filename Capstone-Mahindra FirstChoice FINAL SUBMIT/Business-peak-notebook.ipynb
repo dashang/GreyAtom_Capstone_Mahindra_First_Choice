{
 "cells": [
  {
   "cell_type": "code",
   "execution_count": 1,
   "metadata": {},
   "outputs": [],
   "source": [
    "import pandas as pd\n",
    "import numpy as np"
   ]
  },
  {
   "cell_type": "code",
   "execution_count": 2,
   "metadata": {},
   "outputs": [],
   "source": [
    "\n",
    "path = \"data/invoice_final.csv\"\n",
    "\n",
    "df = pd.read_csv(path)"
   ]
  },
  {
   "cell_type": "code",
   "execution_count": 3,
   "metadata": {},
   "outputs": [
    {
     "output_type": "execute_result",
     "data": {
      "text/plain": "         model customer_type customer_no gate_pass_time  invoice_no  \\\n0        spark        retail       67849        0:00:00  7005200002   \n1       indica        retail       84419        0:00:00  7005200003   \n2          zen        retail       81055        0:00:00  7005200004   \n3       indica        retail       84419        0:00:00  7005200005   \n4  santro xing        retail       18980        0:00:00  7005200006   \n\n   job_card_no  km_reading  labour_total            make         order_type  \\\n0       168303       49317       1203.14  general motors       paid service   \n1       173997       78584        804.26     tata motors  smc value package   \n2       173889       33985        180.19   maruti suzuki    running repairs   \n3       174158       78584          0.00     tata motors     smc redemption   \n4       173860       50057       1202.97         hyundai       paid service   \n\n   ...  pin_district                        pin_location latitude longitude  \\\n0  ...   Maharashtra  Thane Bazar, Thane H.O, Thane R.S.  19.1941   73.0002   \n1  ...   Maharashtra            Thane East, Kopri Colony  19.1941   73.0002   \n2  ...   Maharashtra      Chitalsar Manpada, Sandozbaugh  19.1941   73.0002   \n3  ...   Maharashtra            Thane East, Kopri Colony  19.1941   73.0002   \n4  ...   Maharashtra            Thane East, Kopri Colony  19.1941   73.0002   \n\n         state      zones invoice_datetime  jobcard_datetime  \\\n0  maharashtra  west zone   01/02/15 11:30  12/13/2014 14:29   \n1  maharashtra  west zone   01/03/15 10:07    01/02/15 14:12   \n2  maharashtra  west zone   01/03/15 11:12    01/02/15 11:40   \n3  maharashtra  west zone   01/03/15 11:40    01/03/15 10:12   \n4  maharashtra  west zone   01/03/15 12:07    01/02/15 10:45   \n\n                 Service_Time  model_type  \n0  19 days 21:00:53.000000000   hatchback  \n1   0 days 19:55:14.000000000   hatchback  \n2   0 days 23:32:13.000000000   hatchback  \n3   0 days 01:28:12.000000000   hatchback  \n4   1 days 01:21:35.000000000   hatchback  \n\n[5 rows x 27 columns]",
      "text/html": "<div>\n<style scoped>\n    .dataframe tbody tr th:only-of-type {\n        vertical-align: middle;\n    }\n\n    .dataframe tbody tr th {\n        vertical-align: top;\n    }\n\n    .dataframe thead th {\n        text-align: right;\n    }\n</style>\n<table border=\"1\" class=\"dataframe\">\n  <thead>\n    <tr style=\"text-align: right;\">\n      <th></th>\n      <th>model</th>\n      <th>customer_type</th>\n      <th>customer_no</th>\n      <th>gate_pass_time</th>\n      <th>invoice_no</th>\n      <th>job_card_no</th>\n      <th>km_reading</th>\n      <th>labour_total</th>\n      <th>make</th>\n      <th>order_type</th>\n      <th>...</th>\n      <th>pin_district</th>\n      <th>pin_location</th>\n      <th>latitude</th>\n      <th>longitude</th>\n      <th>state</th>\n      <th>zones</th>\n      <th>invoice_datetime</th>\n      <th>jobcard_datetime</th>\n      <th>Service_Time</th>\n      <th>model_type</th>\n    </tr>\n  </thead>\n  <tbody>\n    <tr>\n      <th>0</th>\n      <td>spark</td>\n      <td>retail</td>\n      <td>67849</td>\n      <td>0:00:00</td>\n      <td>7005200002</td>\n      <td>168303</td>\n      <td>49317</td>\n      <td>1203.14</td>\n      <td>general motors</td>\n      <td>paid service</td>\n      <td>...</td>\n      <td>Maharashtra</td>\n      <td>Thane Bazar, Thane H.O, Thane R.S.</td>\n      <td>19.1941</td>\n      <td>73.0002</td>\n      <td>maharashtra</td>\n      <td>west zone</td>\n      <td>01/02/15 11:30</td>\n      <td>12/13/2014 14:29</td>\n      <td>19 days 21:00:53.000000000</td>\n      <td>hatchback</td>\n    </tr>\n    <tr>\n      <th>1</th>\n      <td>indica</td>\n      <td>retail</td>\n      <td>84419</td>\n      <td>0:00:00</td>\n      <td>7005200003</td>\n      <td>173997</td>\n      <td>78584</td>\n      <td>804.26</td>\n      <td>tata motors</td>\n      <td>smc value package</td>\n      <td>...</td>\n      <td>Maharashtra</td>\n      <td>Thane East, Kopri Colony</td>\n      <td>19.1941</td>\n      <td>73.0002</td>\n      <td>maharashtra</td>\n      <td>west zone</td>\n      <td>01/03/15 10:07</td>\n      <td>01/02/15 14:12</td>\n      <td>0 days 19:55:14.000000000</td>\n      <td>hatchback</td>\n    </tr>\n    <tr>\n      <th>2</th>\n      <td>zen</td>\n      <td>retail</td>\n      <td>81055</td>\n      <td>0:00:00</td>\n      <td>7005200004</td>\n      <td>173889</td>\n      <td>33985</td>\n      <td>180.19</td>\n      <td>maruti suzuki</td>\n      <td>running repairs</td>\n      <td>...</td>\n      <td>Maharashtra</td>\n      <td>Chitalsar Manpada, Sandozbaugh</td>\n      <td>19.1941</td>\n      <td>73.0002</td>\n      <td>maharashtra</td>\n      <td>west zone</td>\n      <td>01/03/15 11:12</td>\n      <td>01/02/15 11:40</td>\n      <td>0 days 23:32:13.000000000</td>\n      <td>hatchback</td>\n    </tr>\n    <tr>\n      <th>3</th>\n      <td>indica</td>\n      <td>retail</td>\n      <td>84419</td>\n      <td>0:00:00</td>\n      <td>7005200005</td>\n      <td>174158</td>\n      <td>78584</td>\n      <td>0.00</td>\n      <td>tata motors</td>\n      <td>smc redemption</td>\n      <td>...</td>\n      <td>Maharashtra</td>\n      <td>Thane East, Kopri Colony</td>\n      <td>19.1941</td>\n      <td>73.0002</td>\n      <td>maharashtra</td>\n      <td>west zone</td>\n      <td>01/03/15 11:40</td>\n      <td>01/03/15 10:12</td>\n      <td>0 days 01:28:12.000000000</td>\n      <td>hatchback</td>\n    </tr>\n    <tr>\n      <th>4</th>\n      <td>santro xing</td>\n      <td>retail</td>\n      <td>18980</td>\n      <td>0:00:00</td>\n      <td>7005200006</td>\n      <td>173860</td>\n      <td>50057</td>\n      <td>1202.97</td>\n      <td>hyundai</td>\n      <td>paid service</td>\n      <td>...</td>\n      <td>Maharashtra</td>\n      <td>Thane East, Kopri Colony</td>\n      <td>19.1941</td>\n      <td>73.0002</td>\n      <td>maharashtra</td>\n      <td>west zone</td>\n      <td>01/03/15 12:07</td>\n      <td>01/02/15 10:45</td>\n      <td>1 days 01:21:35.000000000</td>\n      <td>hatchback</td>\n    </tr>\n  </tbody>\n</table>\n<p>5 rows × 27 columns</p>\n</div>"
     },
     "metadata": {},
     "execution_count": 3
    }
   ],
   "source": [
    "df.head()"
   ]
  },
  {
   "cell_type": "markdown",
   "metadata": {},
   "source": [
    "# Dividing data as per zones to reduce data size"
   ]
  },
  {
   "cell_type": "markdown",
   "metadata": {},
   "source": [
    "## South Zone"
   ]
  },
  {
   "cell_type": "code",
   "execution_count": 31,
   "metadata": {},
   "outputs": [
    {
     "output_type": "execute_result",
     "data": {
      "text/plain": "            model customer_type customer_no gate_pass_time  invoice_no  \\\n631   santro xing        retail       71825        0:00:00  7007200086   \n1146       santro        retail       43997        0:00:00  7009200000   \n1147          800        retail       84064        0:00:00  7009200001   \n1148         alto        retail        4879        0:00:00  7009200002   \n1149  swift dzire        retail       14505        0:00:00  7009200003   \n\n      job_card_no  km_reading  labour_total           make       order_type  \\\n631        175415       58873          0.00        hyundai  running repairs   \n1146       173572       39167       1016.05        hyundai     paid service   \n1147       173374       73381        936.06  maruti suzuki  running repairs   \n1148       173903       44918        599.86  maruti suzuki     paid service   \n1149       173290      150379       1714.00  maruti suzuki     paid service   \n\n      ...  pin_district                                   pin_location  \\\n631   ...     Karnataka                                         Domlur   \n1146  ...     Telangana                                       Hakimpet   \n1147  ...     Telangana                         Somajiguda, I.M.Colony   \n1148  ...     Telangana                                    Chandanagar   \n1149  ...     Telangana  Svpnpa, Gaganpahad, Shivarampalli, Hasannagar   \n\n     latitude longitude      state       zones invoice_datetime  \\\n631   13.2257   77.5750  karnataka  south zone   01/09/15 11:53   \n1146  17.4010   78.4170  telangana  south zone   01/02/15 14:26   \n1147  17.4253   78.4581  telangana  south zone   01/02/15 14:36   \n1148  17.3898   78.4699  telangana  south zone   01/02/15 16:51   \n1149  17.2990   78.4186  telangana  south zone   01/02/15 17:12   \n\n      jobcard_datetime               Service_Time     model_type  \n631     01/07/15 11:50  2 days 00:03:09.000000000      hatchback  \n1146  12/31/2014 12:07  2 days 02:19:02.000000000      hatchback  \n1147  12/30/2014 16:38  2 days 21:58:17.000000000      hatchback  \n1148    01/02/15 11:11  0 days 05:40:23.000000000      hatchback  \n1149  12/30/2014 14:15  3 days 02:56:52.000000000  compact sedan  \n\n[5 rows x 27 columns]",
      "text/html": "<div>\n<style scoped>\n    .dataframe tbody tr th:only-of-type {\n        vertical-align: middle;\n    }\n\n    .dataframe tbody tr th {\n        vertical-align: top;\n    }\n\n    .dataframe thead th {\n        text-align: right;\n    }\n</style>\n<table border=\"1\" class=\"dataframe\">\n  <thead>\n    <tr style=\"text-align: right;\">\n      <th></th>\n      <th>model</th>\n      <th>customer_type</th>\n      <th>customer_no</th>\n      <th>gate_pass_time</th>\n      <th>invoice_no</th>\n      <th>job_card_no</th>\n      <th>km_reading</th>\n      <th>labour_total</th>\n      <th>make</th>\n      <th>order_type</th>\n      <th>...</th>\n      <th>pin_district</th>\n      <th>pin_location</th>\n      <th>latitude</th>\n      <th>longitude</th>\n      <th>state</th>\n      <th>zones</th>\n      <th>invoice_datetime</th>\n      <th>jobcard_datetime</th>\n      <th>Service_Time</th>\n      <th>model_type</th>\n    </tr>\n  </thead>\n  <tbody>\n    <tr>\n      <th>631</th>\n      <td>santro xing</td>\n      <td>retail</td>\n      <td>71825</td>\n      <td>0:00:00</td>\n      <td>7007200086</td>\n      <td>175415</td>\n      <td>58873</td>\n      <td>0.00</td>\n      <td>hyundai</td>\n      <td>running repairs</td>\n      <td>...</td>\n      <td>Karnataka</td>\n      <td>Domlur</td>\n      <td>13.2257</td>\n      <td>77.5750</td>\n      <td>karnataka</td>\n      <td>south zone</td>\n      <td>01/09/15 11:53</td>\n      <td>01/07/15 11:50</td>\n      <td>2 days 00:03:09.000000000</td>\n      <td>hatchback</td>\n    </tr>\n    <tr>\n      <th>1146</th>\n      <td>santro</td>\n      <td>retail</td>\n      <td>43997</td>\n      <td>0:00:00</td>\n      <td>7009200000</td>\n      <td>173572</td>\n      <td>39167</td>\n      <td>1016.05</td>\n      <td>hyundai</td>\n      <td>paid service</td>\n      <td>...</td>\n      <td>Telangana</td>\n      <td>Hakimpet</td>\n      <td>17.4010</td>\n      <td>78.4170</td>\n      <td>telangana</td>\n      <td>south zone</td>\n      <td>01/02/15 14:26</td>\n      <td>12/31/2014 12:07</td>\n      <td>2 days 02:19:02.000000000</td>\n      <td>hatchback</td>\n    </tr>\n    <tr>\n      <th>1147</th>\n      <td>800</td>\n      <td>retail</td>\n      <td>84064</td>\n      <td>0:00:00</td>\n      <td>7009200001</td>\n      <td>173374</td>\n      <td>73381</td>\n      <td>936.06</td>\n      <td>maruti suzuki</td>\n      <td>running repairs</td>\n      <td>...</td>\n      <td>Telangana</td>\n      <td>Somajiguda, I.M.Colony</td>\n      <td>17.4253</td>\n      <td>78.4581</td>\n      <td>telangana</td>\n      <td>south zone</td>\n      <td>01/02/15 14:36</td>\n      <td>12/30/2014 16:38</td>\n      <td>2 days 21:58:17.000000000</td>\n      <td>hatchback</td>\n    </tr>\n    <tr>\n      <th>1148</th>\n      <td>alto</td>\n      <td>retail</td>\n      <td>4879</td>\n      <td>0:00:00</td>\n      <td>7009200002</td>\n      <td>173903</td>\n      <td>44918</td>\n      <td>599.86</td>\n      <td>maruti suzuki</td>\n      <td>paid service</td>\n      <td>...</td>\n      <td>Telangana</td>\n      <td>Chandanagar</td>\n      <td>17.3898</td>\n      <td>78.4699</td>\n      <td>telangana</td>\n      <td>south zone</td>\n      <td>01/02/15 16:51</td>\n      <td>01/02/15 11:11</td>\n      <td>0 days 05:40:23.000000000</td>\n      <td>hatchback</td>\n    </tr>\n    <tr>\n      <th>1149</th>\n      <td>swift dzire</td>\n      <td>retail</td>\n      <td>14505</td>\n      <td>0:00:00</td>\n      <td>7009200003</td>\n      <td>173290</td>\n      <td>150379</td>\n      <td>1714.00</td>\n      <td>maruti suzuki</td>\n      <td>paid service</td>\n      <td>...</td>\n      <td>Telangana</td>\n      <td>Svpnpa, Gaganpahad, Shivarampalli, Hasannagar</td>\n      <td>17.2990</td>\n      <td>78.4186</td>\n      <td>telangana</td>\n      <td>south zone</td>\n      <td>01/02/15 17:12</td>\n      <td>12/30/2014 14:15</td>\n      <td>3 days 02:56:52.000000000</td>\n      <td>compact sedan</td>\n    </tr>\n  </tbody>\n</table>\n<p>5 rows × 27 columns</p>\n</div>"
     },
     "metadata": {},
     "execution_count": 31
    }
   ],
   "source": [
    "south_zone = df[df[\"zones\"] == \"south zone\"]\n",
    "path = \"data/south_zone.csv\"\n",
    "south_zone.to_csv(path, index=False, encoding='utf-8')\n",
    "\n",
    "south_zone.head()"
   ]
  },
  {
   "cell_type": "markdown",
   "metadata": {},
   "source": [
    "## West Zone"
   ]
  },
  {
   "cell_type": "code",
   "execution_count": 29,
   "metadata": {},
   "outputs": [
    {
     "output_type": "execute_result",
     "data": {
      "text/plain": "         model customer_type customer_no gate_pass_time  invoice_no  \\\n0        spark        retail       67849        0:00:00  7005200002   \n1       indica        retail       84419        0:00:00  7005200003   \n2          zen        retail       81055        0:00:00  7005200004   \n3       indica        retail       84419        0:00:00  7005200005   \n4  santro xing        retail       18980        0:00:00  7005200006   \n\n   job_card_no  km_reading  labour_total            make         order_type  \\\n0       168303       49317       1203.14  general motors       paid service   \n1       173997       78584        804.26     tata motors  smc value package   \n2       173889       33985        180.19   maruti suzuki    running repairs   \n3       174158       78584          0.00     tata motors     smc redemption   \n4       173860       50057       1202.97         hyundai       paid service   \n\n   ...  pin_district                        pin_location latitude longitude  \\\n0  ...   Maharashtra  Thane Bazar, Thane H.O, Thane R.S.  19.1941   73.0002   \n1  ...   Maharashtra            Thane East, Kopri Colony  19.1941   73.0002   \n2  ...   Maharashtra      Chitalsar Manpada, Sandozbaugh  19.1941   73.0002   \n3  ...   Maharashtra            Thane East, Kopri Colony  19.1941   73.0002   \n4  ...   Maharashtra            Thane East, Kopri Colony  19.1941   73.0002   \n\n         state      zones invoice_datetime  jobcard_datetime  \\\n0  maharashtra  west zone   01/02/15 11:30  12/13/2014 14:29   \n1  maharashtra  west zone   01/03/15 10:07    01/02/15 14:12   \n2  maharashtra  west zone   01/03/15 11:12    01/02/15 11:40   \n3  maharashtra  west zone   01/03/15 11:40    01/03/15 10:12   \n4  maharashtra  west zone   01/03/15 12:07    01/02/15 10:45   \n\n                 Service_Time  model_type  \n0  19 days 21:00:53.000000000   hatchback  \n1   0 days 19:55:14.000000000   hatchback  \n2   0 days 23:32:13.000000000   hatchback  \n3   0 days 01:28:12.000000000   hatchback  \n4   1 days 01:21:35.000000000   hatchback  \n\n[5 rows x 27 columns]",
      "text/html": "<div>\n<style scoped>\n    .dataframe tbody tr th:only-of-type {\n        vertical-align: middle;\n    }\n\n    .dataframe tbody tr th {\n        vertical-align: top;\n    }\n\n    .dataframe thead th {\n        text-align: right;\n    }\n</style>\n<table border=\"1\" class=\"dataframe\">\n  <thead>\n    <tr style=\"text-align: right;\">\n      <th></th>\n      <th>model</th>\n      <th>customer_type</th>\n      <th>customer_no</th>\n      <th>gate_pass_time</th>\n      <th>invoice_no</th>\n      <th>job_card_no</th>\n      <th>km_reading</th>\n      <th>labour_total</th>\n      <th>make</th>\n      <th>order_type</th>\n      <th>...</th>\n      <th>pin_district</th>\n      <th>pin_location</th>\n      <th>latitude</th>\n      <th>longitude</th>\n      <th>state</th>\n      <th>zones</th>\n      <th>invoice_datetime</th>\n      <th>jobcard_datetime</th>\n      <th>Service_Time</th>\n      <th>model_type</th>\n    </tr>\n  </thead>\n  <tbody>\n    <tr>\n      <th>0</th>\n      <td>spark</td>\n      <td>retail</td>\n      <td>67849</td>\n      <td>0:00:00</td>\n      <td>7005200002</td>\n      <td>168303</td>\n      <td>49317</td>\n      <td>1203.14</td>\n      <td>general motors</td>\n      <td>paid service</td>\n      <td>...</td>\n      <td>Maharashtra</td>\n      <td>Thane Bazar, Thane H.O, Thane R.S.</td>\n      <td>19.1941</td>\n      <td>73.0002</td>\n      <td>maharashtra</td>\n      <td>west zone</td>\n      <td>01/02/15 11:30</td>\n      <td>12/13/2014 14:29</td>\n      <td>19 days 21:00:53.000000000</td>\n      <td>hatchback</td>\n    </tr>\n    <tr>\n      <th>1</th>\n      <td>indica</td>\n      <td>retail</td>\n      <td>84419</td>\n      <td>0:00:00</td>\n      <td>7005200003</td>\n      <td>173997</td>\n      <td>78584</td>\n      <td>804.26</td>\n      <td>tata motors</td>\n      <td>smc value package</td>\n      <td>...</td>\n      <td>Maharashtra</td>\n      <td>Thane East, Kopri Colony</td>\n      <td>19.1941</td>\n      <td>73.0002</td>\n      <td>maharashtra</td>\n      <td>west zone</td>\n      <td>01/03/15 10:07</td>\n      <td>01/02/15 14:12</td>\n      <td>0 days 19:55:14.000000000</td>\n      <td>hatchback</td>\n    </tr>\n    <tr>\n      <th>2</th>\n      <td>zen</td>\n      <td>retail</td>\n      <td>81055</td>\n      <td>0:00:00</td>\n      <td>7005200004</td>\n      <td>173889</td>\n      <td>33985</td>\n      <td>180.19</td>\n      <td>maruti suzuki</td>\n      <td>running repairs</td>\n      <td>...</td>\n      <td>Maharashtra</td>\n      <td>Chitalsar Manpada, Sandozbaugh</td>\n      <td>19.1941</td>\n      <td>73.0002</td>\n      <td>maharashtra</td>\n      <td>west zone</td>\n      <td>01/03/15 11:12</td>\n      <td>01/02/15 11:40</td>\n      <td>0 days 23:32:13.000000000</td>\n      <td>hatchback</td>\n    </tr>\n    <tr>\n      <th>3</th>\n      <td>indica</td>\n      <td>retail</td>\n      <td>84419</td>\n      <td>0:00:00</td>\n      <td>7005200005</td>\n      <td>174158</td>\n      <td>78584</td>\n      <td>0.00</td>\n      <td>tata motors</td>\n      <td>smc redemption</td>\n      <td>...</td>\n      <td>Maharashtra</td>\n      <td>Thane East, Kopri Colony</td>\n      <td>19.1941</td>\n      <td>73.0002</td>\n      <td>maharashtra</td>\n      <td>west zone</td>\n      <td>01/03/15 11:40</td>\n      <td>01/03/15 10:12</td>\n      <td>0 days 01:28:12.000000000</td>\n      <td>hatchback</td>\n    </tr>\n    <tr>\n      <th>4</th>\n      <td>santro xing</td>\n      <td>retail</td>\n      <td>18980</td>\n      <td>0:00:00</td>\n      <td>7005200006</td>\n      <td>173860</td>\n      <td>50057</td>\n      <td>1202.97</td>\n      <td>hyundai</td>\n      <td>paid service</td>\n      <td>...</td>\n      <td>Maharashtra</td>\n      <td>Thane East, Kopri Colony</td>\n      <td>19.1941</td>\n      <td>73.0002</td>\n      <td>maharashtra</td>\n      <td>west zone</td>\n      <td>01/03/15 12:07</td>\n      <td>01/02/15 10:45</td>\n      <td>1 days 01:21:35.000000000</td>\n      <td>hatchback</td>\n    </tr>\n  </tbody>\n</table>\n<p>5 rows × 27 columns</p>\n</div>"
     },
     "metadata": {},
     "execution_count": 29
    }
   ],
   "source": [
    "west_zone = df[df[\"zones\"] == \"west zone\"]\n",
    "path = \"data/west_zone.csv\"\n",
    "west_zone.to_csv(path, index=False, encoding='utf-8')\n",
    "\n",
    "west_zone.head()"
   ]
  },
  {
   "cell_type": "markdown",
   "metadata": {},
   "source": [
    "## East Zone"
   ]
  },
  {
   "cell_type": "code",
   "execution_count": 28,
   "metadata": {},
   "outputs": [
    {
     "output_type": "execute_result",
     "data": {
      "text/plain": "        model customer_type customer_no gate_pass_time  invoice_no  \\\n4202      zen        retail       27810        0:00:00  7027200052   \n10453  santro        retail       88862        0:00:00  7016200186   \n12532     zen        retail       27810        0:00:00  7027200335   \n12622     zen        retail       27810        0:00:00  7027200425   \n14628   vista        retail       80544        0:00:00  7038200286   \n\n       job_card_no  km_reading  labour_total           make       order_type  \\\n4202        176204       30589        249.22  maruti suzuki  running repairs   \n10453       183179       89625          0.00        hyundai  running repairs   \n12532       185172       31245        249.22  maruti suzuki  running repairs   \n12622       188416       31445        249.22  maruti suzuki  running repairs   \n14628       180501       24801          0.00    tata motors       accidental   \n\n       ...  pin_district                                       pin_location  \\\n4202   ...         Bihar  Sheikhpura (Patna), Patna Aerodrome, B.V. College   \n10453  ...   West Bengal  Kankurgachi, Bengal Chemical, Ram Krishna Sama...   \n12532  ...         Bihar  Sheikhpura (Patna), Patna Aerodrome, B.V. College   \n12622  ...         Bihar  Sheikhpura (Patna), Patna Aerodrome, B.V. College   \n14628  ...         Bihar                                        Nawadha H.O   \n\n      latitude longitude        state      zones invoice_datetime  \\\n4202   25.6716   85.0646        bihar  east zone   01/10/15 14:06   \n10453  23.3945   88.2559  west bengal  east zone   02/03/15 12:32   \n12532  25.6716   85.0646        bihar  east zone   02/10/15 18:23   \n12622  25.6716   85.0646        bihar  east zone  2/20/2015 19:03   \n14628  25.0168   85.6328        bihar  east zone  2/18/2015 17:55   \n\n      jobcard_datetime                Service_Time  model_type  \n4202    01/09/15 19:18   0 days 18:47:53.000000000   hatchback  \n10453   02/03/15 12:14   0 days 00:17:51.000000000   hatchback  \n12532    02/10/15 9:45   0 days 08:38:23.000000000   hatchback  \n12622  2/20/2015 15:28   0 days 03:34:40.000000000   hatchback  \n14628  1/24/2015 14:15  25 days 03:40:14.000000000   hatchback  \n\n[5 rows x 27 columns]",
      "text/html": "<div>\n<style scoped>\n    .dataframe tbody tr th:only-of-type {\n        vertical-align: middle;\n    }\n\n    .dataframe tbody tr th {\n        vertical-align: top;\n    }\n\n    .dataframe thead th {\n        text-align: right;\n    }\n</style>\n<table border=\"1\" class=\"dataframe\">\n  <thead>\n    <tr style=\"text-align: right;\">\n      <th></th>\n      <th>model</th>\n      <th>customer_type</th>\n      <th>customer_no</th>\n      <th>gate_pass_time</th>\n      <th>invoice_no</th>\n      <th>job_card_no</th>\n      <th>km_reading</th>\n      <th>labour_total</th>\n      <th>make</th>\n      <th>order_type</th>\n      <th>...</th>\n      <th>pin_district</th>\n      <th>pin_location</th>\n      <th>latitude</th>\n      <th>longitude</th>\n      <th>state</th>\n      <th>zones</th>\n      <th>invoice_datetime</th>\n      <th>jobcard_datetime</th>\n      <th>Service_Time</th>\n      <th>model_type</th>\n    </tr>\n  </thead>\n  <tbody>\n    <tr>\n      <th>4202</th>\n      <td>zen</td>\n      <td>retail</td>\n      <td>27810</td>\n      <td>0:00:00</td>\n      <td>7027200052</td>\n      <td>176204</td>\n      <td>30589</td>\n      <td>249.22</td>\n      <td>maruti suzuki</td>\n      <td>running repairs</td>\n      <td>...</td>\n      <td>Bihar</td>\n      <td>Sheikhpura (Patna), Patna Aerodrome, B.V. College</td>\n      <td>25.6716</td>\n      <td>85.0646</td>\n      <td>bihar</td>\n      <td>east zone</td>\n      <td>01/10/15 14:06</td>\n      <td>01/09/15 19:18</td>\n      <td>0 days 18:47:53.000000000</td>\n      <td>hatchback</td>\n    </tr>\n    <tr>\n      <th>10453</th>\n      <td>santro</td>\n      <td>retail</td>\n      <td>88862</td>\n      <td>0:00:00</td>\n      <td>7016200186</td>\n      <td>183179</td>\n      <td>89625</td>\n      <td>0.00</td>\n      <td>hyundai</td>\n      <td>running repairs</td>\n      <td>...</td>\n      <td>West Bengal</td>\n      <td>Kankurgachi, Bengal Chemical, Ram Krishna Sama...</td>\n      <td>23.3945</td>\n      <td>88.2559</td>\n      <td>west bengal</td>\n      <td>east zone</td>\n      <td>02/03/15 12:32</td>\n      <td>02/03/15 12:14</td>\n      <td>0 days 00:17:51.000000000</td>\n      <td>hatchback</td>\n    </tr>\n    <tr>\n      <th>12532</th>\n      <td>zen</td>\n      <td>retail</td>\n      <td>27810</td>\n      <td>0:00:00</td>\n      <td>7027200335</td>\n      <td>185172</td>\n      <td>31245</td>\n      <td>249.22</td>\n      <td>maruti suzuki</td>\n      <td>running repairs</td>\n      <td>...</td>\n      <td>Bihar</td>\n      <td>Sheikhpura (Patna), Patna Aerodrome, B.V. College</td>\n      <td>25.6716</td>\n      <td>85.0646</td>\n      <td>bihar</td>\n      <td>east zone</td>\n      <td>02/10/15 18:23</td>\n      <td>02/10/15 9:45</td>\n      <td>0 days 08:38:23.000000000</td>\n      <td>hatchback</td>\n    </tr>\n    <tr>\n      <th>12622</th>\n      <td>zen</td>\n      <td>retail</td>\n      <td>27810</td>\n      <td>0:00:00</td>\n      <td>7027200425</td>\n      <td>188416</td>\n      <td>31445</td>\n      <td>249.22</td>\n      <td>maruti suzuki</td>\n      <td>running repairs</td>\n      <td>...</td>\n      <td>Bihar</td>\n      <td>Sheikhpura (Patna), Patna Aerodrome, B.V. College</td>\n      <td>25.6716</td>\n      <td>85.0646</td>\n      <td>bihar</td>\n      <td>east zone</td>\n      <td>2/20/2015 19:03</td>\n      <td>2/20/2015 15:28</td>\n      <td>0 days 03:34:40.000000000</td>\n      <td>hatchback</td>\n    </tr>\n    <tr>\n      <th>14628</th>\n      <td>vista</td>\n      <td>retail</td>\n      <td>80544</td>\n      <td>0:00:00</td>\n      <td>7038200286</td>\n      <td>180501</td>\n      <td>24801</td>\n      <td>0.00</td>\n      <td>tata motors</td>\n      <td>accidental</td>\n      <td>...</td>\n      <td>Bihar</td>\n      <td>Nawadha H.O</td>\n      <td>25.0168</td>\n      <td>85.6328</td>\n      <td>bihar</td>\n      <td>east zone</td>\n      <td>2/18/2015 17:55</td>\n      <td>1/24/2015 14:15</td>\n      <td>25 days 03:40:14.000000000</td>\n      <td>hatchback</td>\n    </tr>\n  </tbody>\n</table>\n<p>5 rows × 27 columns</p>\n</div>"
     },
     "metadata": {},
     "execution_count": 28
    }
   ],
   "source": [
    "east_zone = df[df[\"zones\"] == \"east zone\"]\n",
    "path = \"data/east_zone.csv\"\n",
    "east_zone.to_csv(path, index=False, encoding='utf-8')\n",
    "\n",
    "east_zone.head()"
   ]
  },
  {
   "cell_type": "markdown",
   "metadata": {},
   "source": [
    "## North Zone"
   ]
  },
  {
   "cell_type": "code",
   "execution_count": 33,
   "metadata": {},
   "outputs": [
    {
     "output_type": "execute_result",
     "data": {
      "text/plain": "             model   customer_type customer_no gate_pass_time  invoice_no  \\\n1489        bolero  corporate- m&m     mfccm03        0:00:00  7010200045   \n1492        bolero  corporate- m&m     mfccm03        0:00:00  7010200048   \n1977        innova          retail       13987        0:00:00  7012200004   \n3557        accent          retail       82589        0:00:00  7024200000   \n3558  scorpio crde          retail       60486        0:00:00  7024200001   \n\n      job_card_no  km_reading  labour_total                  make  \\\n1489       175502       24347        648.78  mahindra &  mahindra   \n1492       174218       24347       1200.02  mahindra &  mahindra   \n1977       174019      307908          0.00                toyota   \n3557       170384       62709       2748.04               hyundai   \n3558       173136       62529       8741.05  mahindra &  mahindra   \n\n           order_type  ...   pin_district  \\\n1489  running repairs  ...         Punjab   \n1492       accidental  ...         Punjab   \n1977  running repairs  ...        Haryana   \n3557     paid service  ...  Uttar Pradesh   \n3558     paid service  ...  Uttar Pradesh   \n\n                                           pin_location latitude  longitude  \\\n1489  Chandigarh Sector 67, Chandigarh Sector 61, Ch...  30.7465  76.741700   \n1492  Chandigarh Sector 67, Chandigarh Sector 61, Ch...  30.7465  76.741700   \n1977                                             DLF QE  28.4180  76.983900   \n3557                        Bhopura, Pasonda, Sahibabad  28.6988  77.464233   \n3558                        Bhopura, Pasonda, Sahibabad  28.6988  77.464233   \n\n              state       zones invoice_datetime  jobcard_datetime  \\\n1489         punjab  north zone   01/07/15 18:20    01/07/15 13:45   \n1492         punjab  north zone   01/07/15 18:48    01/03/15 11:29   \n1977        haryana  north zone   01/02/15 19:27    01/02/15 14:29   \n3557  uttar pradesh  north zone   01/02/15 14:38  12/20/2014 17:17   \n3558  uttar pradesh  north zone   01/02/15 17:03  12/30/2014 11:02   \n\n                    Service_Time  model_type  \n1489   0 days 04:34:57.000000000         suv  \n1492   4 days 07:18:48.000000000         suv  \n1977   0 days 04:58:28.000000000         suv  \n3557  12 days 21:21:26.000000000       sedan  \n3558   3 days 06:00:41.000000000         suv  \n\n[5 rows x 27 columns]",
      "text/html": "<div>\n<style scoped>\n    .dataframe tbody tr th:only-of-type {\n        vertical-align: middle;\n    }\n\n    .dataframe tbody tr th {\n        vertical-align: top;\n    }\n\n    .dataframe thead th {\n        text-align: right;\n    }\n</style>\n<table border=\"1\" class=\"dataframe\">\n  <thead>\n    <tr style=\"text-align: right;\">\n      <th></th>\n      <th>model</th>\n      <th>customer_type</th>\n      <th>customer_no</th>\n      <th>gate_pass_time</th>\n      <th>invoice_no</th>\n      <th>job_card_no</th>\n      <th>km_reading</th>\n      <th>labour_total</th>\n      <th>make</th>\n      <th>order_type</th>\n      <th>...</th>\n      <th>pin_district</th>\n      <th>pin_location</th>\n      <th>latitude</th>\n      <th>longitude</th>\n      <th>state</th>\n      <th>zones</th>\n      <th>invoice_datetime</th>\n      <th>jobcard_datetime</th>\n      <th>Service_Time</th>\n      <th>model_type</th>\n    </tr>\n  </thead>\n  <tbody>\n    <tr>\n      <th>1489</th>\n      <td>bolero</td>\n      <td>corporate- m&amp;m</td>\n      <td>mfccm03</td>\n      <td>0:00:00</td>\n      <td>7010200045</td>\n      <td>175502</td>\n      <td>24347</td>\n      <td>648.78</td>\n      <td>mahindra &amp;  mahindra</td>\n      <td>running repairs</td>\n      <td>...</td>\n      <td>Punjab</td>\n      <td>Chandigarh Sector 67, Chandigarh Sector 61, Ch...</td>\n      <td>30.7465</td>\n      <td>76.741700</td>\n      <td>punjab</td>\n      <td>north zone</td>\n      <td>01/07/15 18:20</td>\n      <td>01/07/15 13:45</td>\n      <td>0 days 04:34:57.000000000</td>\n      <td>suv</td>\n    </tr>\n    <tr>\n      <th>1492</th>\n      <td>bolero</td>\n      <td>corporate- m&amp;m</td>\n      <td>mfccm03</td>\n      <td>0:00:00</td>\n      <td>7010200048</td>\n      <td>174218</td>\n      <td>24347</td>\n      <td>1200.02</td>\n      <td>mahindra &amp;  mahindra</td>\n      <td>accidental</td>\n      <td>...</td>\n      <td>Punjab</td>\n      <td>Chandigarh Sector 67, Chandigarh Sector 61, Ch...</td>\n      <td>30.7465</td>\n      <td>76.741700</td>\n      <td>punjab</td>\n      <td>north zone</td>\n      <td>01/07/15 18:48</td>\n      <td>01/03/15 11:29</td>\n      <td>4 days 07:18:48.000000000</td>\n      <td>suv</td>\n    </tr>\n    <tr>\n      <th>1977</th>\n      <td>innova</td>\n      <td>retail</td>\n      <td>13987</td>\n      <td>0:00:00</td>\n      <td>7012200004</td>\n      <td>174019</td>\n      <td>307908</td>\n      <td>0.00</td>\n      <td>toyota</td>\n      <td>running repairs</td>\n      <td>...</td>\n      <td>Haryana</td>\n      <td>DLF QE</td>\n      <td>28.4180</td>\n      <td>76.983900</td>\n      <td>haryana</td>\n      <td>north zone</td>\n      <td>01/02/15 19:27</td>\n      <td>01/02/15 14:29</td>\n      <td>0 days 04:58:28.000000000</td>\n      <td>suv</td>\n    </tr>\n    <tr>\n      <th>3557</th>\n      <td>accent</td>\n      <td>retail</td>\n      <td>82589</td>\n      <td>0:00:00</td>\n      <td>7024200000</td>\n      <td>170384</td>\n      <td>62709</td>\n      <td>2748.04</td>\n      <td>hyundai</td>\n      <td>paid service</td>\n      <td>...</td>\n      <td>Uttar Pradesh</td>\n      <td>Bhopura, Pasonda, Sahibabad</td>\n      <td>28.6988</td>\n      <td>77.464233</td>\n      <td>uttar pradesh</td>\n      <td>north zone</td>\n      <td>01/02/15 14:38</td>\n      <td>12/20/2014 17:17</td>\n      <td>12 days 21:21:26.000000000</td>\n      <td>sedan</td>\n    </tr>\n    <tr>\n      <th>3558</th>\n      <td>scorpio crde</td>\n      <td>retail</td>\n      <td>60486</td>\n      <td>0:00:00</td>\n      <td>7024200001</td>\n      <td>173136</td>\n      <td>62529</td>\n      <td>8741.05</td>\n      <td>mahindra &amp;  mahindra</td>\n      <td>paid service</td>\n      <td>...</td>\n      <td>Uttar Pradesh</td>\n      <td>Bhopura, Pasonda, Sahibabad</td>\n      <td>28.6988</td>\n      <td>77.464233</td>\n      <td>uttar pradesh</td>\n      <td>north zone</td>\n      <td>01/02/15 17:03</td>\n      <td>12/30/2014 11:02</td>\n      <td>3 days 06:00:41.000000000</td>\n      <td>suv</td>\n    </tr>\n  </tbody>\n</table>\n<p>5 rows × 27 columns</p>\n</div>"
     },
     "metadata": {},
     "execution_count": 33
    }
   ],
   "source": [
    "north_zone = df[df[\"zones\"] == \"north zone\"]\n",
    "path = \"data/north_zone.csv\"\n",
    "north_zone.to_csv(path, index=False, encoding='utf-8')\n",
    "\n",
    "north_zone.head()"
   ]
  },
  {
   "cell_type": "markdown",
   "metadata": {},
   "source": [
    "## Central Zone"
   ]
  },
  {
   "cell_type": "code",
   "execution_count": 32,
   "metadata": {},
   "outputs": [
    {
     "output_type": "execute_result",
     "data": {
      "text/plain": "              model customer_type customer_no gate_pass_time  invoice_no  \\\n68             figo        retail       82548        0:00:00  7005200070   \n4806          swift        retail       86069        0:00:00  7030200095   \n4925   indigo manza        retail       74585        0:00:00  7030200215   \n21628         swift        retail       94803        0:00:00  7030200919   \n23491          alto        retail       95568        0:00:00  7151200569   \n\n       job_card_no  km_reading  labour_total           make       order_type  \\\n68          170332       58000       5805.01           ford       accidental   \n4806        177325       18908        403.19  maruti suzuki  running repairs   \n4925        180284       93615        402.93    tata motors  running repairs   \n21628       195596        4617          0.00  maruti suzuki       accidental   \n23491       197129       36593        441.25  maruti suzuki  running repairs   \n\n       ...    pin_district                                       pin_location  \\\n68     ...  Madhya Pradesh  Indore G.P.O., Indore CGO Complex, Indore Taks...   \n4806   ...  Madhya Pradesh  Dehri Khurd, Tilsani, Dhanwahi, Piparia, Napie...   \n4925   ...  Madhya Pradesh  Amladepot, Berdi, Lohangi, Devi, Sausar, Borga...   \n21628  ...     Chattisgarh  Raipur Kutchery, Dayanand Nagar, Purani Basti ...   \n23491  ...  Madhya Pradesh  Old Secretriate, Shahajahanabad, Chhola Road, ...   \n\n      latitude  longitude           state         zones invoice_datetime  \\\n68     22.7233  75.870000  madhya pradesh  central zone   01/11/15 15:47   \n4806   23.2364  80.002104  madhya pradesh  central zone  1/13/2015 15:07   \n4925   21.6723  78.841425  madhya pradesh  central zone  1/24/2015 12:10   \n21628  21.8417  81.223690     chattisgarh  central zone  3/31/2015 16:26   \n23491  25.0345  81.703000  madhya pradesh  central zone  3/22/2015 17:05   \n\n       jobcard_datetime                Service_Time  model_type  \n68     12/20/2014 15:02  22 days 00:45:13.000000000   hatchback  \n4806    1/13/2015 13:39   0 days 01:27:51.000000000   hatchback  \n4925    1/24/2015 10:21   0 days 01:49:41.000000000       sedan  \n21628   3/17/2015 12:32  14 days 03:53:41.000000000   hatchback  \n23491   3/22/2015 16:08   0 days 00:56:28.000000000   hatchback  \n\n[5 rows x 27 columns]",
      "text/html": "<div>\n<style scoped>\n    .dataframe tbody tr th:only-of-type {\n        vertical-align: middle;\n    }\n\n    .dataframe tbody tr th {\n        vertical-align: top;\n    }\n\n    .dataframe thead th {\n        text-align: right;\n    }\n</style>\n<table border=\"1\" class=\"dataframe\">\n  <thead>\n    <tr style=\"text-align: right;\">\n      <th></th>\n      <th>model</th>\n      <th>customer_type</th>\n      <th>customer_no</th>\n      <th>gate_pass_time</th>\n      <th>invoice_no</th>\n      <th>job_card_no</th>\n      <th>km_reading</th>\n      <th>labour_total</th>\n      <th>make</th>\n      <th>order_type</th>\n      <th>...</th>\n      <th>pin_district</th>\n      <th>pin_location</th>\n      <th>latitude</th>\n      <th>longitude</th>\n      <th>state</th>\n      <th>zones</th>\n      <th>invoice_datetime</th>\n      <th>jobcard_datetime</th>\n      <th>Service_Time</th>\n      <th>model_type</th>\n    </tr>\n  </thead>\n  <tbody>\n    <tr>\n      <th>68</th>\n      <td>figo</td>\n      <td>retail</td>\n      <td>82548</td>\n      <td>0:00:00</td>\n      <td>7005200070</td>\n      <td>170332</td>\n      <td>58000</td>\n      <td>5805.01</td>\n      <td>ford</td>\n      <td>accidental</td>\n      <td>...</td>\n      <td>Madhya Pradesh</td>\n      <td>Indore G.P.O., Indore CGO Complex, Indore Taks...</td>\n      <td>22.7233</td>\n      <td>75.870000</td>\n      <td>madhya pradesh</td>\n      <td>central zone</td>\n      <td>01/11/15 15:47</td>\n      <td>12/20/2014 15:02</td>\n      <td>22 days 00:45:13.000000000</td>\n      <td>hatchback</td>\n    </tr>\n    <tr>\n      <th>4806</th>\n      <td>swift</td>\n      <td>retail</td>\n      <td>86069</td>\n      <td>0:00:00</td>\n      <td>7030200095</td>\n      <td>177325</td>\n      <td>18908</td>\n      <td>403.19</td>\n      <td>maruti suzuki</td>\n      <td>running repairs</td>\n      <td>...</td>\n      <td>Madhya Pradesh</td>\n      <td>Dehri Khurd, Tilsani, Dhanwahi, Piparia, Napie...</td>\n      <td>23.2364</td>\n      <td>80.002104</td>\n      <td>madhya pradesh</td>\n      <td>central zone</td>\n      <td>1/13/2015 15:07</td>\n      <td>1/13/2015 13:39</td>\n      <td>0 days 01:27:51.000000000</td>\n      <td>hatchback</td>\n    </tr>\n    <tr>\n      <th>4925</th>\n      <td>indigo manza</td>\n      <td>retail</td>\n      <td>74585</td>\n      <td>0:00:00</td>\n      <td>7030200215</td>\n      <td>180284</td>\n      <td>93615</td>\n      <td>402.93</td>\n      <td>tata motors</td>\n      <td>running repairs</td>\n      <td>...</td>\n      <td>Madhya Pradesh</td>\n      <td>Amladepot, Berdi, Lohangi, Devi, Sausar, Borga...</td>\n      <td>21.6723</td>\n      <td>78.841425</td>\n      <td>madhya pradesh</td>\n      <td>central zone</td>\n      <td>1/24/2015 12:10</td>\n      <td>1/24/2015 10:21</td>\n      <td>0 days 01:49:41.000000000</td>\n      <td>sedan</td>\n    </tr>\n    <tr>\n      <th>21628</th>\n      <td>swift</td>\n      <td>retail</td>\n      <td>94803</td>\n      <td>0:00:00</td>\n      <td>7030200919</td>\n      <td>195596</td>\n      <td>4617</td>\n      <td>0.00</td>\n      <td>maruti suzuki</td>\n      <td>accidental</td>\n      <td>...</td>\n      <td>Chattisgarh</td>\n      <td>Raipur Kutchery, Dayanand Nagar, Purani Basti ...</td>\n      <td>21.8417</td>\n      <td>81.223690</td>\n      <td>chattisgarh</td>\n      <td>central zone</td>\n      <td>3/31/2015 16:26</td>\n      <td>3/17/2015 12:32</td>\n      <td>14 days 03:53:41.000000000</td>\n      <td>hatchback</td>\n    </tr>\n    <tr>\n      <th>23491</th>\n      <td>alto</td>\n      <td>retail</td>\n      <td>95568</td>\n      <td>0:00:00</td>\n      <td>7151200569</td>\n      <td>197129</td>\n      <td>36593</td>\n      <td>441.25</td>\n      <td>maruti suzuki</td>\n      <td>running repairs</td>\n      <td>...</td>\n      <td>Madhya Pradesh</td>\n      <td>Old Secretriate, Shahajahanabad, Chhola Road, ...</td>\n      <td>25.0345</td>\n      <td>81.703000</td>\n      <td>madhya pradesh</td>\n      <td>central zone</td>\n      <td>3/22/2015 17:05</td>\n      <td>3/22/2015 16:08</td>\n      <td>0 days 00:56:28.000000000</td>\n      <td>hatchback</td>\n    </tr>\n  </tbody>\n</table>\n<p>5 rows × 27 columns</p>\n</div>"
     },
     "metadata": {},
     "execution_count": 32
    }
   ],
   "source": [
    "central_zone = df[df[\"zones\"] == \"central zone\"]\n",
    "path = \"data/central_zone.csv\"\n",
    "central_zone.to_csv(path, index=False, encoding='utf-8')\n",
    "\n",
    "central_zone.head()"
   ]
  },
  {
   "cell_type": "code",
   "execution_count": 37,
   "metadata": {
    "tags": []
   },
   "outputs": [
    {
     "output_type": "stream",
     "name": "stdout",
     "text": "east_zone:     (7298, 27)\nwest_zone:     (150830, 27)\nnorth_zone:    (99407, 27)\nsouth_zone:    (220635, 27)\ncentral_zone:  (14144, 27)\n"
    }
   ],
   "source": [
    "print(\"east_zone:    \", east_zone.shape)\n",
    "print(\"west_zone:    \", west_zone.shape)\n",
    "print(\"north_zone:   \", north_zone.shape)\n",
    "print(\"south_zone:   \", south_zone.shape)\n",
    "print(\"central_zone: \", central_zone.shape)\n"
   ]
  },
  {
   "cell_type": "code",
   "execution_count": 56,
   "metadata": {},
   "outputs": [
    {
     "output_type": "execute_result",
     "data": {
      "text/plain": "(7298, 28)"
     },
     "metadata": {},
     "execution_count": 56
    }
   ],
   "source": [
    "zone = east_zone\n",
    "zone.shape"
   ]
  },
  {
   "cell_type": "code",
   "execution_count": 57,
   "metadata": {},
   "outputs": [],
   "source": [
    "zone[\"invoice_datetime\"] = pd.to_datetime(zone[\"invoice_datetime\"],dayfirst=True)\n",
    "zone[\"jobcard_datetime\"] = pd.to_datetime(zone[\"jobcard_datetime\"],dayfirst=True)\n",
    "zone['Service_Time']     = zone['invoice_datetime'] - zone['jobcard_datetime']\n",
    "zone['service_time_hrs'] = zone['Service_Time']/np.timedelta64(1,'h')"
   ]
  },
  {
   "cell_type": "code",
   "execution_count": 58,
   "metadata": {},
   "outputs": [
    {
     "output_type": "execute_result",
     "data": {
      "text/plain": "Index(['model', 'customer_type', 'customer_no', 'gate_pass_time', 'invoice_no',\n       'job_card_no', 'km_reading', 'labour_total', 'make', 'order_type',\n       'pin_code', 'plant_code', 'plant_name', 'regn_no', 'total_amt',\n       'user_id', 'pin_city', 'pin_district', 'pin_location', 'latitude',\n       'longitude', 'state', 'zones', 'invoice_datetime', 'jobcard_datetime',\n       'Service_Time', 'model_type', 'service_time_hrs'],\n      dtype='object')"
     },
     "metadata": {},
     "execution_count": 58
    }
   ],
   "source": [
    "zone.columns"
   ]
  },
  {
   "cell_type": "code",
   "execution_count": 60,
   "metadata": {},
   "outputs": [
    {
     "output_type": "execute_result",
     "data": {
      "text/plain": "4202     2015-10-01 14:06:00\n10453    2015-03-02 12:32:00\n12532    2015-10-02 18:23:00\n12622    2015-02-20 19:03:00\n14628    2015-02-18 17:55:00\n                 ...        \n492031   2016-06-30 18:51:00\n492032   2016-06-30 18:56:00\n492033   2016-06-30 19:02:00\n492034   2016-06-30 19:56:00\n492035   2016-06-30 19:56:00\nName: invoice_datetime, Length: 7298, dtype: datetime64[ns]"
     },
     "metadata": {},
     "execution_count": 60
    }
   ],
   "source": [
    "zone['invoice_datetime']\n",
    "# invoive count vs month\n",
    "\n"
   ]
  },
  {
   "cell_type": "code",
   "execution_count": null,
   "metadata": {},
   "outputs": [],
   "source": []
  }
 ],
 "metadata": {
  "language_info": {
   "codemirror_mode": {
    "name": "ipython",
    "version": 3
   },
   "file_extension": ".py",
   "mimetype": "text/x-python",
   "name": "python",
   "nbconvert_exporter": "python",
   "pygments_lexer": "ipython3",
   "version": "3.7.4-final"
  },
  "orig_nbformat": 2,
  "kernelspec": {
   "name": "python37432bitc1904522e8ce46829924bddcb110fc44",
   "display_name": "Python 3.7.4 32-bit"
  }
 },
 "nbformat": 4,
 "nbformat_minor": 2
}